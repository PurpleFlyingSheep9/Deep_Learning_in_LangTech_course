{
 "cells": [
  {
   "cell_type": "markdown",
   "metadata": {},
   "source": [
    "# RNN text classification\n",
    "\n",
    "In this notebook, we'll go through a straightforward application of recurrent neural networks to binary text classification in Keras."
   ]
  },
  {
   "cell_type": "markdown",
   "metadata": {},
   "source": [
    "## Load IMDB data\n",
    "\n",
    "This is the same data as in [the BoW classifier notebook](https://github.com/TurkuNLP/Deep_Learning_in_LangTech_course/blob/master/bow_classifier.ipynb).\n",
    "\n",
    "(Note that there is direct support for IMDB in keras (`keras.datasets.imdb`). We're doing the preprocessing explicitly here to show all the steps.)\n",
    "\n",
    "First, download the dataset."
   ]
  },
  {
   "cell_type": "code",
   "execution_count": 24,
   "metadata": {},
   "outputs": [
    {
     "name": "stdout",
     "output_type": "stream",
     "text": [
      "File ‘imdb_train.json’ already there; not retrieving.\r\n",
      "\r\n"
     ]
    }
   ],
   "source": [
    "# Give -nc (--no-clobber) argument so that the file isn't downloaded multiple times \n",
    "!wget -nc https://raw.githubusercontent.com/TurkuNLP/Deep_Learning_in_LangTech_course/master/data/imdb_train.json"
   ]
  },
  {
   "cell_type": "markdown",
   "metadata": {},
   "source": [
    "Next, we'll load the JSON-formatted data. This gives us a list of dictionaries, each of which has `class` and `text`."
   ]
  },
  {
   "cell_type": "code",
   "execution_count": 2,
   "metadata": {},
   "outputs": [
    {
     "name": "stdout",
     "output_type": "stream",
     "text": [
      "<class 'list'>\n",
      "<class 'dict'>\n",
      "dict_keys(['class', 'text'])\n",
      "{'class': 'pos', 'text': \"With all this stuff going down at the moment with MJ i've started listening to his music, watching the odd documentary here and there, watched The Wiz and watched Moonwalker again. Maybe i just want to get a certain insight into this guy who i thought was really cool in the eighties just to maybe make up my mind whether he is guilty or innocent. Moonwalker is part biography, part feature film which i remember going to see at the cinema when it was originally released. Some of it has subtle messages about MJ's feeling towards the press and also the obvious message of drugs are bad m'kay.  Visually impressive but of course this is all about Michael Jackson so unless you remotely like MJ in anyway then you are going to hate this and find it boring. Some may call MJ an egotist for consenting to the making of this movie BUT MJ and most of his fans would say that he made it for the fans which if true is really nice of him.  The actual feature film bit when it finally starts is only on for 20 minutes or so excluding the Smooth Criminal sequence and Joe Pesci is convincing as a psychopathic all powerful drug lord. Why he wants MJ dead so bad is beyond me. Because MJ overheard his plans? Nah, Joe Pesci's character ranted that he wanted people to know it is he who is supplying drugs etc so i dunno, maybe he just hates MJ's music.  Lots of cool things in this like MJ turning into a car and a robot and the whole Speed Demon sequence. Also, the director must have had the patience of a saint when it came to filming the kiddy Bad sequence as usually directors hate working with one kid let alone a whole bunch of them performing a complex dance scene.  Bottom line, this movie is for people who like MJ on one level or another (which i think is most people). If not, then stay away. It does try and give off a wholesome message and ironically MJ's bestest buddy in this movie is a girl! Michael Jackson is truly one of the most talented people ever to grace this planet but is he guilty? Well, with all the attention i've gave this subject....hmmm well i don't know because people can be different behind closed doors, i know this for a fact. He is either an extremely nice but stupid guy or one of the most sickest liars. I hope he is not the latter.\"}\n"
     ]
    }
   ],
   "source": [
    "import json\n",
    "\n",
    "\n",
    "with open('imdb_train.json') as f:\n",
    "    data = json.load(f)\n",
    "    \n",
    "\n",
    "# Look at the data\n",
    "print(type(data))\n",
    "print(type(data[0]))\n",
    "print(data[0].keys())\n",
    "print(data[0])"
   ]
  },
  {
   "cell_type": "markdown",
   "metadata": {},
   "source": [
    "Let's be careful and shuffle our data first, and then separate the texts and labels for further processing."
   ]
  },
  {
   "cell_type": "code",
   "execution_count": 3,
   "metadata": {},
   "outputs": [
    {
     "name": "stdout",
     "output_type": "stream",
     "text": [
      "Text: I saw Insomniac's Nightmare not to long ago for the first time and I have to say, I really found it to be quite good. If you are a fan of Dominic Monaghan you will love it. The hole movie takes place inside his mind -or does it? The acting from everyone else is a little rushed and shaky and some of the scenes could be cut down but it works out in the end. The extras on the DVD are just as great as the film, if not greater for those Dom fans. It has tons of candid moments from the set, outtakes and a great interview with the director. Anyone who has gone through making an independent film will love to watch Tess (the director), Dom and everyone else on the very small close personal set try to bang out this little trippy creepy film. It was pretty enjoyable and I'm glad to have it in my collection.\n",
      "Label: pos\n"
     ]
    }
   ],
   "source": [
    "import random\n",
    "import numpy as np\n",
    "\n",
    "    \n",
    "random.seed(1234)    # This makes the shuffle produce the same order every time\n",
    "random.shuffle(data)\n",
    "\n",
    "texts = [example['text'] for example in data]\n",
    "labels = [example['class'] for example in data]\n",
    "\n",
    "# Example text and label\n",
    "print('Text:', texts[0])\n",
    "print('Label:', labels[0])"
   ]
  },
  {
   "cell_type": "markdown",
   "metadata": {},
   "source": [
    "## Preprocess data\n",
    "\n",
    "Both the text and the labels are strings; we'll need to convert the labels into integers and the text into an appropriate format for RNN training.\n",
    "\n",
    "### Labels\n",
    "\n",
    "For the labels, we'll use the simple sklearn [`LabelEncoder`](https://scikit-learn.org/stable/modules/generated/sklearn.preprocessing.LabelEncoder.html), as before."
   ]
  },
  {
   "cell_type": "code",
   "execution_count": 4,
   "metadata": {},
   "outputs": [
    {
     "name": "stdout",
     "output_type": "stream",
     "text": [
      "<class 'list'> ['pos', 'neg', 'pos', 'pos', 'pos', 'neg', 'neg', 'pos', 'neg', 'pos']\n",
      "<class 'numpy.ndarray'> [1 0 1 1 1 0 0 1 0 1]\n"
     ]
    }
   ],
   "source": [
    "from sklearn.preprocessing import LabelEncoder\n",
    "\n",
    "\n",
    "label_encoder = LabelEncoder()    # Turns class labels into integers\n",
    "Y = label_encoder.fit_transform(labels)\n",
    "\n",
    "# See how those compare\n",
    "print(type(labels), labels[:10])\n",
    "print(type(Y), Y[:10])"
   ]
  },
  {
   "cell_type": "markdown",
   "metadata": {},
   "source": [
    "### Texts\n",
    "\n",
    "We'll then use a keras [`Tokenizer`](https://keras.io/preprocessing/text/) to vectorize the texts."
   ]
  },
  {
   "cell_type": "code",
   "execution_count": 5,
   "metadata": {},
   "outputs": [],
   "source": [
    "from tensorflow.keras.preprocessing.text import Tokenizer\n",
    "\n",
    "\n",
    "# Excepting for num_words, the values below are the defaults for Tokenizer parameters.\n",
    "# They are included here explicitly to show some of the options for using Tokenizer.\n",
    "\n",
    "tokenizer = Tokenizer(\n",
    "    num_words=100000,\n",
    "    lower=True,\n",
    "    split=' ',\n",
    "    char_level=False\n",
    ")\n",
    "\n",
    "tokenizer.fit_on_texts(texts)"
   ]
  },
  {
   "cell_type": "markdown",
   "metadata": {},
   "source": [
    "`tokenizer.fit_on_texts()` creates a mapping from tokens to integers.\n",
    "\n",
    "Note: that the value 0 is not used in the mapping. This allows us to use it for padding. (There isn't anything magical about 0, this is just convention.)"
   ]
  },
  {
   "cell_type": "code",
   "execution_count": 6,
   "metadata": {},
   "outputs": [
    {
     "name": "stdout",
     "output_type": "stream",
     "text": [
      "None\n",
      "{'a': 3,\n",
      " 'and': 2,\n",
      " 'i': 9,\n",
      " 'in': 7,\n",
      " 'is': 6,\n",
      " 'it': 8,\n",
      " 'of': 4,\n",
      " 'the': 1,\n",
      " 'this': 10,\n",
      " 'to': 5}\n"
     ]
    }
   ],
   "source": [
    "from pprint import pprint    # pretty-printer\n",
    "\n",
    "\n",
    "def truncate_dict(d, count=10):\n",
    "    # Returns at most count items from the given dictionary.  \n",
    "    return dict(i for i, _ in zip(d.items(), range(count)))\n",
    "\n",
    "\n",
    "# Check if 0 is in the index, and print examples of the mapping\n",
    "print(tokenizer.word_index.get(0))\n",
    "pprint(truncate_dict(tokenizer.word_index))"
   ]
  },
  {
   "cell_type": "markdown",
   "metadata": {},
   "source": [
    "After initializing the token string to integer mapping, we use `texts_to_sequences` to convert each text to a corresponding sequence of integers."
   ]
  },
  {
   "cell_type": "code",
   "execution_count": 7,
   "metadata": {},
   "outputs": [
    {
     "name": "stdout",
     "output_type": "stream",
     "text": [
      "Text: I saw Insomniac's Nightmare not to long ago for the first time and I have to say, I really found it \n",
      "Sequence: [9, 215, 20597, 1719, 20, 5, 192, 592, 14, 1, 82, 54, 2, 9, 24, 5, 131, 9, 62, 254, 8, 5, 26, 175, 48, 43, 21, 22, 3, 333, 4, 7261, 13419, 21, 76, 115, 8, 1, 2931, 16, 300, 269, 1000, 23, 326, 38, 123, 8, 1, 112, 35, 312, 330, 6, 3, 113, 3308, 2, 5073, 2, 45, 4, 1, 135, 96, 26, 601, 176, 17, 8, 491, 42, 7, 1, 126, 1, 2252, 19, 1, 284, 22, 39, 13, 83, 13, 1, 18, 43, 20, 2780, 14, 144, 8057, 447, 8, 44, 3395, 4, 14895, 384, 35, 1, 266, 13420, 2, 3, 83, 2695, 15, 1, 163, 255, 33, 44, 820, 139, 227, 31, 1720, 18, 76, 115, 5, 102, 8058, 1, 163, 8057, 2, 312, 330, 19, 1, 51, 388, 487, 961, 266, 349, 5, 4009, 42, 10, 113, 12257, 943, 18, 8, 12, 180, 733, 2, 142, 1259, 5, 24, 8, 7, 57, 1587]\n",
      "Mapped back: ['i', 'saw', \"insomniac's\", 'nightmare', 'not', 'to', 'long', 'ago', 'for', 'the']\n"
     ]
    }
   ],
   "source": [
    "sequences = tokenizer.texts_to_sequences(texts)\n",
    "\n",
    "# Print an example text, its corresponding sequence, and the tokens it represents\n",
    "print('Text:', texts[0][:100])\n",
    "print('Sequence:', sequences[0])\n",
    "print('Mapped back:', [tokenizer.index_word[i] for i in sequences[0][:10]])"
   ]
  },
  {
   "cell_type": "markdown",
   "metadata": {},
   "source": [
    "Note that these sequences are variable length:"
   ]
  },
  {
   "cell_type": "code",
   "execution_count": 8,
   "metadata": {},
   "outputs": [
    {
     "name": "stdout",
     "output_type": "stream",
     "text": [
      "Lengths: [160, 217, 182, 270, 252, 220, 335, 117, 172, 283] min: 10 max: 2473 mean: 233.63884\n"
     ]
    }
   ],
   "source": [
    "lengths = [len(s) for s in sequences]\n",
    "print('Lengths:', lengths[:10], 'min:', min(lengths), 'max:', max(lengths), 'mean:', np.mean(lengths))"
   ]
  },
  {
   "cell_type": "markdown",
   "metadata": {},
   "source": [
    "### Pad and truncate sequences\n",
    "\n",
    "RNNs can process variable-length inputs. However, RNN implementations can have their own constraints.\n",
    "\n",
    "Keras expects all examples in a batch to be the same length. To make it possible to train with batch sizes larger than one, we use [`pad_sequences`](https://keras.io/preprocessing/sequence/#pad_sequences) to pad and truncate all sequences to a fixed length.\n",
    "\n",
    "(An alternative approach is to use `batch_size=1` when training)"
   ]
  },
  {
   "cell_type": "code",
   "execution_count": 9,
   "metadata": {},
   "outputs": [
    {
     "name": "stdout",
     "output_type": "stream",
     "text": [
      "type(sequences): <class 'list'>\n",
      "type(padded): <class 'numpy.ndarray'>\n",
      "padded.shape: (25000, 250)\n"
     ]
    }
   ],
   "source": [
    "from tensorflow.keras.preprocessing.sequence import pad_sequences\n",
    "\n",
    "\n",
    "# The padding and truncating parameters default to 'pre', i.e. aligning\n",
    "# the end of the input with the end of the padded sequence. With 'post',\n",
    "# we're here aligning the beginning instead.\n",
    "\n",
    "post_padded_X = pad_sequences(\n",
    "    sequences,\n",
    "    maxlen=250,\n",
    "    padding='post',\n",
    "    truncating='post',\n",
    "    value=0\n",
    ")\n",
    "\n",
    "# Compare those\n",
    "print('type(sequences):', type(sequences))\n",
    "print('type(padded):', type(post_padded_X))\n",
    "print('padded.shape:', post_padded_X.shape)"
   ]
  },
  {
   "cell_type": "markdown",
   "metadata": {},
   "source": [
    "**This is the representation of the data that our model will see.**\n",
    "\n",
    "As in the case of the bag-of-words MLP example, we have produced a matrix of shape `(num_examples, n)`.\n",
    "\n",
    "However, these are quite different: in the bag-of-words representation `n` was the size of the vocabulary and each row consisted of indicator values (0 or 1) signaling the presence or absence of a word in a document. Here `n` is the (padded) sequence length, and the values are the indices of vocabulary items."
   ]
  },
  {
   "cell_type": "code",
   "execution_count": 10,
   "metadata": {},
   "outputs": [
    {
     "name": "stdout",
     "output_type": "stream",
     "text": [
      "Post-padded:\n",
      "[    9   215 20597  1719    20     5   192   592    14     1    82    54\n",
      "     2     9    24     5   131     9    62   254     8     5    26   175\n",
      "    48    43    21    22     3   333     4  7261 13419    21    76   115\n",
      "     8     1  2931    16   300   269  1000    23   326    38   123     8\n",
      "     1   112    35   312   330     6     3   113  3308     2  5073     2\n",
      "    45     4     1   135    96    26   601   176    17     8   491    42\n",
      "     7     1   126     1  2252    19     1   284    22    39    13    83\n",
      "    13     1    18    43    20  2780    14   144  8057   447     8    44\n",
      "  3395     4 14895   384    35     1   266 13420     2     3    83  2695\n",
      "    15     1   163   255    33    44   820   139   227    31  1720    18\n",
      "    76   115     5   102  8058     1   163  8057     2   312   330    19\n",
      "     1    51   388   487   961   266   349     5  4009    42    10   113\n",
      " 12257   943    18     8    12   180   733     2   142  1259     5    24\n",
      "     8     7    57  1587     0     0     0     0     0     0     0     0\n",
      "     0     0     0     0     0     0     0     0     0     0     0     0\n",
      "     0     0     0     0     0     0     0     0     0     0     0     0\n",
      "     0     0     0     0     0     0     0     0     0     0     0     0\n",
      "     0     0     0     0     0     0     0     0     0     0     0     0\n",
      "     0     0     0     0     0     0     0     0     0     0     0     0\n",
      "     0     0     0     0     0     0     0     0     0     0     0     0\n",
      "     0     0     0     0     0     0     0     0     0     0]\n",
      "Mapped back: ['i', 'saw', \"insomniac's\", 'nightmare', 'not', 'to', 'long', 'ago', 'for', 'the']\n"
     ]
    }
   ],
   "source": [
    "print('Post-padded:')\n",
    "print(post_padded_X[0])\n",
    "print('Mapped back:', [tokenizer.index_word[i] for i in post_padded_X[0][:10]])"
   ]
  },
  {
   "cell_type": "markdown",
   "metadata": {},
   "source": [
    "## Build model\n",
    "\n",
    "We define a basic RNN model that takes the RNN cell class (`RNN_class`) as an argument:\n",
    "\n",
    "* input: sequence of `sequence_length` integers corresponding to words\n",
    "* embedding: randomly initialized mapping to `embedding_dim`-dimensional vectors\n",
    "* rnn: recurrent neural network with `rnn_units`-dimensional state\n",
    "* output: `num_classes`-dimensional fully connected layer with softmax activation\n",
    "\n",
    "We're intentionally leaving out a few fairly obvious things that would be expected to help here, including\n",
    "\n",
    "* Any form of regularization, e.g. dropout\n",
    "* Initializing the embeddings with pre-trained word vectors\n",
    "* Masking to ignore padding (see [Masking and padding with Keras](https://www.tensorflow.org/guide/keras/masking_and_padding))"
   ]
  },
  {
   "cell_type": "code",
   "execution_count": 11,
   "metadata": {},
   "outputs": [
    {
     "name": "stdout",
     "output_type": "stream",
     "text": [
      "WARNING:tensorflow:From /Users/smp/Library/Python/3.7/lib/python/site-packages/tensorflow_core/python/keras/initializers.py:119: calling RandomUniform.__init__ (from tensorflow.python.ops.init_ops) with dtype is deprecated and will be removed in a future version.\n",
      "Instructions for updating:\n",
      "Call initializer instance with the dtype argument instead of passing it to the constructor\n",
      "WARNING:tensorflow:From /Users/smp/Library/Python/3.7/lib/python/site-packages/tensorflow_core/python/ops/resource_variable_ops.py:1630: calling BaseResourceVariable.__init__ (from tensorflow.python.ops.resource_variable_ops) with constraint is deprecated and will be removed in a future version.\n",
      "Instructions for updating:\n",
      "If using Keras pass *_constraint arguments to layers.\n"
     ]
    }
   ],
   "source": [
    "from tensorflow.keras.models import Model\n",
    "from tensorflow.keras.layers import Input, Embedding, SimpleRNN, LSTM, Dense\n",
    "\n",
    "\n",
    "def build_rnn_model(RNN_class, sequence_length, vocab_size, num_classes,\n",
    "                    embedding_dim=250, rnn_units=50):\n",
    "    input_ = Input(shape=(sequence_length,))\n",
    "    embedding = Embedding(vocab_size, embedding_dim)(input_)\n",
    "    # return_sequences=False is the default\n",
    "    rnn = RNN_class(rnn_units, return_sequences=False)(embedding)\n",
    "    output = Dense(num_classes, activation='softmax')(rnn)\n",
    "    return Model(inputs=[input_], outputs=[output])\n",
    "\n",
    "\n",
    "sequence_length = post_padded_X.shape[1]\n",
    "vocab_size = tokenizer.num_words\n",
    "num_classes = len(label_encoder.classes_)\n",
    "\n",
    "# We'll use the defaults for embedding_dim and rnn_units in all of our examples here.\n",
    "simple_rnn_model = build_rnn_model(SimpleRNN, sequence_length, vocab_size, num_classes)"
   ]
  },
  {
   "cell_type": "code",
   "execution_count": 12,
   "metadata": {},
   "outputs": [
    {
     "name": "stdout",
     "output_type": "stream",
     "text": [
      "Model: \"model\"\n",
      "_________________________________________________________________\n",
      "Layer (type)                 Output Shape              Param #   \n",
      "=================================================================\n",
      "input_1 (InputLayer)         [(None, 250)]             0         \n",
      "_________________________________________________________________\n",
      "embedding (Embedding)        (None, 250, 250)          25000000  \n",
      "_________________________________________________________________\n",
      "simple_rnn (SimpleRNN)       (None, 50)                15050     \n",
      "_________________________________________________________________\n",
      "dense (Dense)                (None, 2)                 102       \n",
      "=================================================================\n",
      "Total params: 25,015,152\n",
      "Trainable params: 25,015,152\n",
      "Non-trainable params: 0\n",
      "_________________________________________________________________\n"
     ]
    }
   ],
   "source": [
    "simple_rnn_model.summary()"
   ]
  },
  {
   "cell_type": "markdown",
   "metadata": {},
   "source": [
    "## Train simple RNN\n",
    "\n",
    "We'll then compile and train our model.\n",
    "\n",
    "Note that as our outputs `Y` are integers (rather than one-hot class indicators), we need to use `sparse_categorical_crossentropy` (instead of `categorical_crossentropy`)."
   ]
  },
  {
   "cell_type": "code",
   "execution_count": 13,
   "metadata": {},
   "outputs": [],
   "source": [
    "simple_rnn_model.compile(\n",
    "    loss='sparse_categorical_crossentropy',\n",
    "    optimizer='adam',\n",
    "    metrics=['accuracy']\n",
    ")"
   ]
  },
  {
   "cell_type": "code",
   "execution_count": 14,
   "metadata": {},
   "outputs": [
    {
     "name": "stdout",
     "output_type": "stream",
     "text": [
      "Train on 22500 samples, validate on 2500 samples\n",
      "Epoch 1/3\n",
      "22500/22500 [==============================] - 629s 28ms/sample - loss: 0.6986 - acc: 0.5019 - val_loss: 0.6949 - val_acc: 0.5032\n",
      "Epoch 2/3\n",
      "22500/22500 [==============================] - 749s 33ms/sample - loss: 0.6494 - acc: 0.5784 - val_loss: 0.7135 - val_acc: 0.4916\n",
      "Epoch 3/3\n",
      "22500/22500 [==============================] - 761s 34ms/sample - loss: 0.6409 - acc: 0.5839 - val_loss: 0.7159 - val_acc: 0.5076\n"
     ]
    }
   ],
   "source": [
    "# We'll use these parameters for training in these examples\n",
    "epochs = 3\n",
    "batch_size = 16\n",
    "\n",
    "simple_rnn_history = simple_rnn_model.fit(\n",
    "    post_padded_X,\n",
    "    Y,\n",
    "    epochs=epochs,\n",
    "    batch_size=batch_size,\n",
    "    validation_split=0.1\n",
    ")"
   ]
  },
  {
   "cell_type": "markdown",
   "metadata": {},
   "source": [
    "Let's plot the training and validation set accuracies."
   ]
  },
  {
   "cell_type": "code",
   "execution_count": 15,
   "metadata": {},
   "outputs": [
    {
     "name": "stdout",
     "output_type": "stream",
     "text": [
      "History: [0.5032, 0.4916, 0.5076]\n",
      "Max accuracy: 0.5076\n"
     ]
    },
    {
     "data": {
      "image/png": "[encoded data removed]",
      "text/plain": [
       "<Figure size 432x288 with 1 Axes>"
      ]
     },
     "metadata": {
      "needs_background": "light"
     },
     "output_type": "display_data"
    }
   ],
   "source": [
    "%matplotlib inline\n",
    "import matplotlib.pyplot as plt\n",
    "\n",
    "\n",
    "def plot_history(history):\n",
    "    train_metric = 'acc' if 'acc' in history.history else 'accuracy'\n",
    "    val_metric = 'val_acc' if 'val_acc' in history.history else 'val_accuracy'\n",
    "    print(\"History:\", history.history[val_metric])\n",
    "    print(\"Max accuracy:\", max(history.history[val_metric]))\n",
    "    y_min = min(history.history[train_metric] + history.history[val_metric])\n",
    "    y_max = max(history.history[train_metric] + history.history[val_metric])\n",
    "    plt.ylim(max(y_min-0.1, 0.0), min(y_max+0.1, 1.0))\n",
    "    plt.plot(history.history[val_metric],label=\"Validation set accuracy\")\n",
    "    plt.plot(history.history[train_metric],label=\"Training set accuracy\")\n",
    "    plt.legend()\n",
    "    plt.show()\n",
    "\n",
    "\n",
    "plot_history(simple_rnn_history)"
   ]
  },
  {
   "cell_type": "markdown",
   "metadata": {},
   "source": [
    "Well, that's not learning much of anything.\n",
    "\n",
    "(What's going on here?)"
   ]
  },
  {
   "cell_type": "code",
   "execution_count": 16,
   "metadata": {
    "scrolled": true
   },
   "outputs": [
    {
     "name": "stdout",
     "output_type": "stream",
     "text": [
      "Post-padded:\n",
      "[    9   215 20597  1719    20     5   192   592    14     1    82    54\n",
      "     2     9    24     5   131     9    62   254     8     5    26   175\n",
      "    48    43    21    22     3   333     4  7261 13419    21    76   115\n",
      "     8     1  2931    16   300   269  1000    23   326    38   123     8\n",
      "     1   112    35   312   330     6     3   113  3308     2  5073     2\n",
      "    45     4     1   135    96    26   601   176    17     8   491    42\n",
      "     7     1   126     1  2252    19     1   284    22    39    13    83\n",
      "    13     1    18    43    20  2780    14   144  8057   447     8    44\n",
      "  3395     4 14895   384    35     1   266 13420     2     3    83  2695\n",
      "    15     1   163   255    33    44   820   139   227    31  1720    18\n",
      "    76   115     5   102  8058     1   163  8057     2   312   330    19\n",
      "     1    51   388   487   961   266   349     5  4009    42    10   113\n",
      " 12257   943    18     8    12   180   733     2   142  1259     5    24\n",
      "     8     7    57  1587     0     0     0     0     0     0     0     0\n",
      "     0     0     0     0     0     0     0     0     0     0     0     0\n",
      "     0     0     0     0     0     0     0     0     0     0     0     0\n",
      "     0     0     0     0     0     0     0     0     0     0     0     0\n",
      "     0     0     0     0     0     0     0     0     0     0     0     0\n",
      "     0     0     0     0     0     0     0     0     0     0     0     0\n",
      "     0     0     0     0     0     0     0     0     0     0     0     0\n",
      "     0     0     0     0     0     0     0     0     0     0]\n"
     ]
    }
   ],
   "source": [
    "print('Post-padded:')\n",
    "print(post_padded_X[0])"
   ]
  },
  {
   "cell_type": "markdown",
   "metadata": {},
   "source": [
    "`SimpleRNN` implements the basic RNN cell structure introduced as \"vanilla RNN\" on the lectures. What we're seeing here are the training difficulties we discussed."
   ]
  },
  {
   "cell_type": "markdown",
   "metadata": {},
   "source": [
    "## Train LSTM\n",
    "\n",
    "Let's try the exact same process, except with `LSTM` instead of `SimpleRNN`."
   ]
  },
  {
   "cell_type": "code",
   "execution_count": 17,
   "metadata": {
    "scrolled": true
   },
   "outputs": [
    {
     "name": "stdout",
     "output_type": "stream",
     "text": [
      "WARNING:tensorflow:From /Users/smp/Library/Python/3.7/lib/python/site-packages/tensorflow_core/python/ops/math_grad.py:1424: where (from tensorflow.python.ops.array_ops) is deprecated and will be removed in a future version.\n",
      "Instructions for updating:\n",
      "Use tf.where in 2.0, which has the same broadcast rule as np.where\n",
      "Train on 22500 samples, validate on 2500 samples\n",
      "Epoch 1/3\n",
      "22500/22500 [==============================] - 1166s 52ms/sample - loss: 0.6809 - acc: 0.5485 - val_loss: 0.6594 - val_acc: 0.5840\n",
      "Epoch 2/3\n",
      "22500/22500 [==============================] - 1218s 54ms/sample - loss: 0.5343 - acc: 0.7284 - val_loss: 0.4214 - val_acc: 0.8268\n",
      "Epoch 3/3\n",
      "22500/22500 [==============================] - 1119s 50ms/sample - loss: 0.2925 - acc: 0.8892 - val_loss: 0.3678 - val_acc: 0.8584\n"
     ]
    }
   ],
   "source": [
    "lstm_model = build_rnn_model(LSTM, sequence_length, vocab_size, num_classes)\n",
    "\n",
    "lstm_model.compile(loss='sparse_categorical_crossentropy', optimizer='adam', metrics=['accuracy'])\n",
    "\n",
    "lstm_history = lstm_model.fit(post_padded_X, Y, epochs=epochs, batch_size=batch_size, validation_split=0.1)"
   ]
  },
  {
   "cell_type": "code",
   "execution_count": 22,
   "metadata": {},
   "outputs": [
    {
     "name": "stdout",
     "output_type": "stream",
     "text": [
      "History: [0.584, 0.8268, 0.8584]\n",
      "Max accuracy: 0.8584\n"
     ]
    },
    {
     "data": {
      "image/png": "[encoded data removed]",
      "text/plain": [
       "<Figure size 432x288 with 1 Axes>"
      ]
     },
     "metadata": {
      "needs_background": "light"
     },
     "output_type": "display_data"
    }
   ],
   "source": [
    "plot_history(lstm_history)"
   ]
  },
  {
   "cell_type": "markdown",
   "metadata": {},
   "source": [
    "Now we're getting somewhere! (But still not very far.)\n",
    "\n",
    "Recall that when generating the data, we applied `padding='post'`. Let's see if that made a difference."
   ]
  },
  {
   "cell_type": "code",
   "execution_count": 19,
   "metadata": {},
   "outputs": [
    {
     "name": "stdout",
     "output_type": "stream",
     "text": [
      "Pre-padded:\n",
      "[    0     0     0     0     0     0     0     0     0     0     0     0\n",
      "     0     0     0     0     0     0     0     0     0     0     0     0\n",
      "     0     0     0     0     0     0     0     0     0     0     0     0\n",
      "     0     0     0     0     0     0     0     0     0     0     0     0\n",
      "     0     0     0     0     0     0     0     0     0     0     0     0\n",
      "     0     0     0     0     0     0     0     0     0     0     0     0\n",
      "     0     0     0     0     0     0     0     0     0     0     0     0\n",
      "     0     0     0     0     0     0     9   215 20597  1719    20     5\n",
      "   192   592    14     1    82    54     2     9    24     5   131     9\n",
      "    62   254     8     5    26   175    48    43    21    22     3   333\n",
      "     4  7261 13419    21    76   115     8     1  2931    16   300   269\n",
      "  1000    23   326    38   123     8     1   112    35   312   330     6\n",
      "     3   113  3308     2  5073     2    45     4     1   135    96    26\n",
      "   601   176    17     8   491    42     7     1   126     1  2252    19\n",
      "     1   284    22    39    13    83    13     1    18    43    20  2780\n",
      "    14   144  8057   447     8    44  3395     4 14895   384    35     1\n",
      "   266 13420     2     3    83  2695    15     1   163   255    33    44\n",
      "   820   139   227    31  1720    18    76   115     5   102  8058     1\n",
      "   163  8057     2   312   330    19     1    51   388   487   961   266\n",
      "   349     5  4009    42    10   113 12257   943    18     8    12   180\n",
      "   733     2   142  1259     5    24     8     7    57  1587]\n"
     ]
    }
   ],
   "source": [
    "pre_padded_X = pad_sequences(\n",
    "    sequences,\n",
    "    maxlen=250,\n",
    "    padding='pre',\n",
    "    truncating='pre',\n",
    "    value=0\n",
    ")\n",
    "\n",
    "print('Pre-padded:')\n",
    "print(pre_padded_X[0])"
   ]
  },
  {
   "cell_type": "markdown",
   "metadata": {},
   "source": [
    "The real (non-pad) tokens are now aligned with the end of the sequence, leaving less distance from the useful part of the input to the point where the model sees the label.\n",
    "\n",
    "(Note that this is effectively what [masking](https://www.tensorflow.org/guide/keras/masking_and_padding) would do here.)"
   ]
  },
  {
   "cell_type": "code",
   "execution_count": 20,
   "metadata": {},
   "outputs": [
    {
     "name": "stdout",
     "output_type": "stream",
     "text": [
      "Train on 22500 samples, validate on 2500 samples\n",
      "Epoch 1/3\n",
      "22500/22500 [==============================] - 1101s 49ms/sample - loss: 0.4533 - acc: 0.7888 - val_loss: 0.3423 - val_acc: 0.8612\n",
      "Epoch 2/3\n",
      "22500/22500 [==============================] - 1330s 59ms/sample - loss: 0.2108 - acc: 0.9196 - val_loss: 0.3435 - val_acc: 0.8692\n",
      "Epoch 3/3\n",
      "22500/22500 [==============================] - 1011s 45ms/sample - loss: 0.0950 - acc: 0.9654 - val_loss: 0.4258 - val_acc: 0.8248\n"
     ]
    }
   ],
   "source": [
    "model = build_rnn_model(LSTM, sequence_length, vocab_size, num_classes)\n",
    "\n",
    "model.compile(loss='sparse_categorical_crossentropy', optimizer='adam', metrics=['accuracy'])\n",
    "\n",
    "lstm_history_pre = model.fit(pre_padded_X, Y, epochs=epochs, batch_size=batch_size, validation_split=0.1)"
   ]
  },
  {
   "cell_type": "code",
   "execution_count": 23,
   "metadata": {},
   "outputs": [
    {
     "name": "stdout",
     "output_type": "stream",
     "text": [
      "History: [0.8612, 0.8692, 0.8248]\n",
      "Max accuracy: 0.8692\n"
     ]
    },
    {
     "data": {
      "image/png": "[encoded data removed]",
      "text/plain": [
       "<Figure size 432x288 with 1 Axes>"
      ]
     },
     "metadata": {
      "needs_background": "light"
     },
     "output_type": "display_data"
    }
   ],
   "source": [
    "plot_history(lstm_history_pre)"
   ]
  },
  {
   "cell_type": "markdown",
   "metadata": {},
   "source": [
    "That definitely helps the model learn faster, although performance still isn't amazing. A few takeaways: 1) LSTMs alleviate the challenges with training recurrent models, but don't entirely solve them, and 2) RNNs are not a silver bullet, and won't necessarily outperform other models such as CNNs.\n",
    "\n",
    "(Those things said, there are certainly many things that we could do to improve this model.)"
   ]
  },
  {
   "cell_type": "markdown",
   "metadata": {},
   "source": [
    "## Summary\n",
    "\n",
    "* Evaluated vanilla RNN and LSTM models for binary text classification using the IMDB dataset\n",
    "* Observed failure of vanilla RNN to learn the task. [RNN training is difficult](http://proceedings.mlr.press/v28/pascanu13.pdf); vanishing/exploding gradients\n",
    "* Observed that replacing `SimpleRNN` with `LSTM` allowed the network to learn; LSTMs alleviate the training difficulties seen with vanilla RNNs."
   ]
  }
 ],
 "metadata": {
  "kernelspec": {
   "display_name": "Python 3",
   "language": "python",
   "name": "python3"
  },
  "language_info": {
   "codemirror_mode": {
    "name": "ipython",
    "version": 3
   },
   "file_extension": ".py",
   "mimetype": "text/x-python",
   "name": "python",
   "nbconvert_exporter": "python",
   "pygments_lexer": "ipython3",
   "version": "3.7.6"
  }
 },
 "nbformat": 4,
 "nbformat_minor": 4
}
