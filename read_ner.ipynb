{
 "cells": [
  {
   "cell_type": "markdown",
   "metadata": {},
   "source": [
    "# Read NER data\n",
    "\n",
    "Reads the CoNLL'03 English data from https://github.com/glample/tagger and converts it to json.\n",
    "\n",
    "Download the originals (if we don't have them already):"
   ]
  },
  {
   "cell_type": "code",
   "execution_count": 1,
   "metadata": {},
   "outputs": [
    {
     "name": "stdout",
     "output_type": "stream",
     "text": [
      "File ‘eng.train’ already there; not retrieving.\n",
      "\n",
      "File ‘eng.testa’ already there; not retrieving.\n",
      "\n",
      "File ‘eng.testb’ already there; not retrieving.\n",
      "\n"
     ]
    }
   ],
   "source": [
    "!wget -nc https://github.com/glample/tagger/raw/master/dataset/eng.train\n",
    "!wget -nc https://github.com/glample/tagger/raw/master/dataset/eng.testa\n",
    "!wget -nc https://github.com/glample/tagger/raw/master/dataset/eng.testb"
   ]
  },
  {
   "cell_type": "markdown",
   "metadata": {},
   "source": [
    "Conversion:"
   ]
  },
  {
   "cell_type": "code",
   "execution_count": 2,
   "metadata": {},
   "outputs": [],
   "source": [
    "import json\n",
    "\n",
    "\n",
    "def to_json(in_path, out_path):\n",
    "    sentences = []\n",
    "    with open(in_path, 'rt') as input_file:\n",
    "        sentence_tokens = []\n",
    "        sentence_tags = []\n",
    "        for line in input_file:\n",
    "            # Empty lines are sentence boundaries in the CoNLL format\n",
    "            if line.strip() == '':\n",
    "                if len(sentence_tokens) > 0:\n",
    "                    sentences.append({'text': sentence_tokens, 'tags': sentence_tags})\n",
    "                sentence_tokens = []\n",
    "                sentence_tags = []\n",
    "            elif '-DOCSTART-' in line: # These are metadata lines we can skip\n",
    "                continue\n",
    "            else:\n",
    "                data = line.strip().split()\n",
    "                # Data format is <token> <pos> <chunk> <ner>\n",
    "                sentence_tokens.append(data[0])\n",
    "                sentence_tags.append(data[3].replace('I-MISC', 'O').replace('B-MISC', 'O').replace('B-', 'I-')) # Lets ignore MISC class\n",
    "    with open(out_path, 'w') as output_file:\n",
    "        json.dump(sentences, output_file, indent=2)"
   ]
  },
  {
   "cell_type": "markdown",
   "metadata": {},
   "source": [
    "Run conversion, renaming the files in the process."
   ]
  },
  {
   "cell_type": "code",
   "execution_count": 3,
   "metadata": {},
   "outputs": [],
   "source": [
    "to_json('eng.train', 'data/ner-conll03-en-train.json')\n",
    "to_json('eng.testa', 'data/ner-conll03-en-dev.json')\n",
    "to_json('eng.testb', 'data/ner-conll03-en-test.json')"
   ]
  }
 ],
 "metadata": {
  "kernelspec": {
   "display_name": "Python 3",
   "language": "python",
   "name": "python3"
  },
  "language_info": {
   "codemirror_mode": {
    "name": "ipython",
    "version": 3
   },
   "file_extension": ".py",
   "mimetype": "text/x-python",
   "name": "python",
   "nbconvert_exporter": "python",
   "pygments_lexer": "ipython3",
   "version": "3.7.6"
  }
 },
 "nbformat": 4,
 "nbformat_minor": 2
}
