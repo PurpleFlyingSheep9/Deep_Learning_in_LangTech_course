{
 "cells": [
  {
   "cell_type": "markdown",
   "metadata": {},
   "source": [
    "# Sequence labeling with BERT\n",
    "\n",
    "This notebook briefly demonstrates fine-tuning a pretrained BERT model to a sequence labeling task.\n",
    "\n",
    "You probably want to run this notebook with GPU acceleration, as fine-tuning BERT on CPU can be fairly slow even with a comparatively small dataset."
   ]
  },
  {
   "cell_type": "markdown",
   "metadata": {},
   "source": [
    "## Configuration\n",
    "\n",
    "The following variables configure a few aspects of the data, model, and training process. To adapt this example to a different dataset, you'll probably want to change these to match.\n",
    "\n",
    "Note in particular that we're limiting the number of examples and the maximum sequence length to make training faster. \n",
    "\n",
    "When running on GPU, it's also necessary to make sure that the input length and batch size are not so large as to cause a batch to exceed GPU memory. If you're getting a message like `Resource exhausted: OOM when allocating tensor`, try smaller numbers for these."
   ]
  },
  {
   "cell_type": "code",
   "execution_count": 1,
   "metadata": {},
   "outputs": [],
   "source": [
    "# Maximum number of examples to read\n",
    "MAX_EXAMPLES = 2000\n",
    "\n",
    "# Maximum length of input sequence in tokens\n",
    "INPUT_LENGTH = 25\n",
    "\n",
    "# Number of epochs to train for\n",
    "EPOCHS = 3\n",
    "\n",
    "# Optimizer learning rate\n",
    "LEARNING_RATE = 0.00002\n",
    "\n",
    "# Training batch size\n",
    "BATCH_SIZE = 8"
   ]
  },
  {
   "cell_type": "markdown",
   "metadata": {},
   "source": [
    "## Package setup\n",
    "\n",
    "We'll use [keras-bert](https://github.com/CyberZHG/keras-bert). Make sure the package is installed. (`pip` is the Python [package installer](https://pip.pypa.io/en/stable/))"
   ]
  },
  {
   "cell_type": "code",
   "execution_count": 2,
   "metadata": {},
   "outputs": [
    {
     "name": "stdout",
     "output_type": "stream",
     "text": [
      "Requirement already satisfied: keras-bert in /Users/smp/Library/Python/3.7/lib/python/site-packages (0.81.0)\n",
      "Requirement already satisfied: Keras in /Users/smp/Library/Python/3.7/lib/python/site-packages (from keras-bert) (2.3.1)\n",
      "Requirement already satisfied: keras-transformer>=0.30.0 in /Users/smp/Library/Python/3.7/lib/python/site-packages (from keras-bert) (0.32.0)\n",
      "Requirement already satisfied: numpy in /Users/smp/Library/Python/3.7/lib/python/site-packages (from keras-bert) (1.18.1)\n",
      "Requirement already satisfied: scipy>=0.14 in /Users/smp/Library/Python/3.7/lib/python/site-packages (from Keras->keras-bert) (1.4.1)\n",
      "Requirement already satisfied: keras-preprocessing>=1.0.5 in /Users/smp/Library/Python/3.7/lib/python/site-packages (from Keras->keras-bert) (1.1.0)\n",
      "Requirement already satisfied: h5py in /Users/smp/Library/Python/3.7/lib/python/site-packages (from Keras->keras-bert) (2.10.0)\n",
      "Requirement already satisfied: keras-applications>=1.0.6 in /Users/smp/Library/Python/3.7/lib/python/site-packages (from Keras->keras-bert) (1.0.8)\n",
      "Requirement already satisfied: six>=1.9.0 in /Users/smp/Library/Python/3.7/lib/python/site-packages (from Keras->keras-bert) (1.14.0)\n",
      "Requirement already satisfied: pyyaml in /Users/smp/Library/Python/3.7/lib/python/site-packages (from Keras->keras-bert) (5.3)\n",
      "Requirement already satisfied: keras-pos-embd>=0.10.0 in /Users/smp/Library/Python/3.7/lib/python/site-packages (from keras-transformer>=0.30.0->keras-bert) (0.11.0)\n",
      "Requirement already satisfied: keras-position-wise-feed-forward>=0.5.0 in /Users/smp/Library/Python/3.7/lib/python/site-packages (from keras-transformer>=0.30.0->keras-bert) (0.6.0)\n",
      "Requirement already satisfied: keras-embed-sim>=0.7.0 in /Users/smp/Library/Python/3.7/lib/python/site-packages (from keras-transformer>=0.30.0->keras-bert) (0.7.0)\n",
      "Requirement already satisfied: keras-layer-normalization>=0.12.0 in /Users/smp/Library/Python/3.7/lib/python/site-packages (from keras-transformer>=0.30.0->keras-bert) (0.14.0)\n",
      "Requirement already satisfied: keras-multi-head>=0.22.0 in /Users/smp/Library/Python/3.7/lib/python/site-packages (from keras-transformer>=0.30.0->keras-bert) (0.22.0)\n",
      "Requirement already satisfied: keras-self-attention==0.41.0 in /Users/smp/Library/Python/3.7/lib/python/site-packages (from keras-multi-head>=0.22.0->keras-transformer>=0.30.0->keras-bert) (0.41.0)\n"
     ]
    }
   ],
   "source": [
    "!pip3 install keras-bert"
   ]
  },
  {
   "cell_type": "markdown",
   "metadata": {},
   "source": [
    "## Tensorflow configuration\n",
    "\n",
    "We'll need set an environment variable for keras-bert to use `tensorflow.python.keras`. (This is a technical detail that is not related to the model.)"
   ]
  },
  {
   "cell_type": "code",
   "execution_count": 3,
   "metadata": {},
   "outputs": [],
   "source": [
    "import os\n",
    "\n",
    "\n",
    "os.environ['TF_KERAS'] = '1'    # Required to use tensorflow.python.keras with keras-bert"
   ]
  },
  {
   "cell_type": "markdown",
   "metadata": {},
   "source": [
    "## Download dataset\n",
    "\n",
    "We'll use part-of-speech tags from a recent [Universal Dependencies]() version of the English [EWT corpus](https://nlp.stanford.edu/pubs/Gold_LREC14.pdf).\n",
    "\n",
    "Download the training and development subsets of the corpus data."
   ]
  },
  {
   "cell_type": "code",
   "execution_count": 4,
   "metadata": {},
   "outputs": [
    {
     "name": "stdout",
     "output_type": "stream",
     "text": [
      "File ‘en_ewt-ud-train.conllu’ already there; not retrieving.\n",
      "\n",
      "File ‘en_ewt-ud-dev.conllu’ already there; not retrieving.\n",
      "\n"
     ]
    }
   ],
   "source": [
    "# Give -nc (--no-clobber) argument so that the file isn't downloaded multiple times \n",
    "!wget -nc https://github.com/UniversalDependencies/UD_English-EWT/raw/master/en_ewt-ud-train.conllu\n",
    "!wget -nc https://github.com/UniversalDependencies/UD_English-EWT/raw/master/en_ewt-ud-dev.conllu"
   ]
  },
  {
   "cell_type": "markdown",
   "metadata": {},
   "source": [
    "## Load data\n",
    "\n",
    "The corpus is in [CoNLL-U](https://universaldependencies.org/format) format. We won't get into the details of the format here, as it's enough to know the following:\n",
    "\n",
    "* Lines beginning with `#` are comments and can be ignored\n",
    "* Empty lines delimit sentences\n",
    "* Remaining lines contain information on words, with fields separated by a tab\n",
    "* On lines where the first field is an integer (word index), the second field contains the word surface form, and the fourth the part-of-speech tag\n",
    "\n",
    "We'll grab the wordforms and POS tags and keep them organized by sentences.\n",
    "\n",
    "Note that before (potentially) truncating the examples to `MAX_EXAMPLES` we'll shuffle the list of sentences, but keep the words in their original order."
   ]
  },
  {
   "cell_type": "code",
   "execution_count": 5,
   "metadata": {},
   "outputs": [
    {
     "name": "stdout",
     "output_type": "stream",
     "text": [
      "Note: truncating examples in en_ewt-ud-train.conllu from 12543 to 2000\n",
      "Note: truncating examples in en_ewt-ud-dev.conllu from 2002 to 2000\n",
      "\n",
      "Example sentence:\n",
      "They\tPRON\n",
      "had\tVERB\n",
      "a\tDET\n",
      "great\tADJ\n",
      "selection\tNOUN\n",
      "of\tADP\n",
      "colors\tNOUN\n",
      "to\tPART\n",
      "choose\tVERB\n",
      "from\tADP\n",
      "and\tCCONJ\n",
      "their\tPRON\n",
      "seats\tNOUN\n",
      "are\tAUX\n",
      "super\tADV\n",
      "comfty\tADJ\n",
      ".\tPUNCT\n"
     ]
    }
   ],
   "source": [
    "import random\n",
    "\n",
    "\n",
    "random.seed(1234)    # This makes random.shuffle() produce the same order every time\n",
    "\n",
    "\n",
    "\n",
    "def load_conllu_tags(fn):\n",
    "    sentences = []\n",
    "    with open(fn) as f:\n",
    "        current = []\n",
    "        for line in f:\n",
    "            line = line.rstrip('\\n')\n",
    "            if line.startswith('#'):\n",
    "                continue    # Comment line, skip\n",
    "            if line == '' or line.isspace():\n",
    "                # Empty line, sentence boundary\n",
    "                sentences.append(current)\n",
    "                current = []\n",
    "                continue\n",
    "            fields = line.split('\\t')\n",
    "            if not fields[0].isdigit():\n",
    "                continue    # Not a regular word, skip\n",
    "            word, tag = fields[1], fields[3]\n",
    "            current.append((word, tag))\n",
    "            \n",
    "    random.shuffle(sentences)\n",
    "    if len(sentences) > MAX_EXAMPLES:\n",
    "        print('Note: truncating examples in {} from {} to {}'.format(fn, len(sentences), MAX_EXAMPLES))\n",
    "        sentences = sentences[:MAX_EXAMPLES]\n",
    "\n",
    "    return sentences\n",
    "\n",
    "\n",
    "train_sentences = load_conllu_tags('en_ewt-ud-train.conllu')\n",
    "dev_sentences = load_conllu_tags('en_ewt-ud-dev.conllu')\n",
    "\n",
    "\n",
    "# Have a look at the data\n",
    "print('\\nExample sentence:')\n",
    "for word, tag in train_sentences[0]:\n",
    "    print('{}\\t{}'.format(word, tag))"
   ]
  },
  {
   "cell_type": "markdown",
   "metadata": {},
   "source": [
    "## Download pretrained BERT model\n",
    "\n",
    "As training BERT from scratch generally takes days, we'll here load a pretrained model and fine-tune it for our task. URLs to download pre-trained models made available by Google are found at https://github.com/google-research/bert .\n",
    "\n",
    "`cased_L-12_H-768_A-12` is a case-sensitive BERT \"base\" model for English: 12 layers, 768-dimensional hidden state, and 12 \"heads\" for multi-head attention."
   ]
  },
  {
   "cell_type": "code",
   "execution_count": 6,
   "metadata": {},
   "outputs": [
    {
     "name": "stdout",
     "output_type": "stream",
     "text": [
      "File ‘cased_L-12_H-768_A-12.zip’ already there; not retrieving.\r\n",
      "\r\n"
     ]
    }
   ],
   "source": [
    "# Give -nc (--no-clobber) argument so that the file isn't downloaded multiple times \n",
    "!wget -nc https://storage.googleapis.com/bert_models/2018_10_18/cased_L-12_H-768_A-12.zip"
   ]
  },
  {
   "cell_type": "markdown",
   "metadata": {},
   "source": [
    "Unpack the downloaded file:"
   ]
  },
  {
   "cell_type": "code",
   "execution_count": 7,
   "metadata": {},
   "outputs": [
    {
     "name": "stdout",
     "output_type": "stream",
     "text": [
      "Archive:  cased_L-12_H-768_A-12.zip\r\n"
     ]
    }
   ],
   "source": [
    "# Give -n argument so that existing files aren't overwritten \n",
    "!unzip -n cased_L-12_H-768_A-12.zip"
   ]
  },
  {
   "cell_type": "markdown",
   "metadata": {},
   "source": [
    "There are three key parts to the package contents:\n",
    "\n",
    "* `vocab.txt`: plain text file listing vocabulary items\n",
    "* `bert_config.json`: model configuration in JSON format\n",
    "* `bert_model.ckpt.*`: model checkpoint data with pre-trained weights in [Tensorflow checkpoint format](https://www.tensorflow.org/guide/checkpoint)\n",
    "\n",
    "Take note of the path to these (you'll need to change this if you pick a different model)"
   ]
  },
  {
   "cell_type": "code",
   "execution_count": 8,
   "metadata": {},
   "outputs": [],
   "source": [
    "bert_vocab_path = 'cased_L-12_H-768_A-12/vocab.txt'\n",
    "bert_config_path = 'cased_L-12_H-768_A-12/bert_config.json'\n",
    "bert_checkpoint_path = 'cased_L-12_H-768_A-12/bert_model.ckpt'    # suffixes not required"
   ]
  },
  {
   "cell_type": "markdown",
   "metadata": {},
   "source": [
    "Also take note if the model we downloaded was a case-sensitive (cased) or not. (This must match the model.)"
   ]
  },
  {
   "cell_type": "code",
   "execution_count": 9,
   "metadata": {},
   "outputs": [],
   "source": [
    "model_is_cased = True"
   ]
  },
  {
   "cell_type": "markdown",
   "metadata": {},
   "source": [
    "## Load BERT vocabulary\n",
    "\n",
    "This is just a plain text file with one vocabulary item per line."
   ]
  },
  {
   "cell_type": "code",
   "execution_count": 10,
   "metadata": {},
   "outputs": [
    {
     "name": "stdout",
     "output_type": "stream",
     "text": [
      "['[PAD]', 'щ', '吉', 'told', 'space', 'operations', 'proposed', 'Oxford', 'showing', 'domestic', 'mountains', 'commission', 'voices', 'associate', 'hills', 'Guide', 'relaxed', 'Page', 'Heights', 'singers', 'Interior', 'considers', 'facilitate', 'shouting', '1826', 'constitute', 'alter', 'clip', 'Into', 'Memory', 'ballad', 'Owens', 'Langdon', 'aquatic', 'stereo', 'Cass', 'Shock', '195', '##tec', '##sonic', 'attested', '##rdes', '1840s', '##90', 'Guys', '##rien', 'Munro', 'Ursula', 'mesh', 'diplomacy', 'Newmarket', '##oughs', 'synthesizers', 'Drugs', 'monstrous', '##ynamic', 'troll', '##ٹ']\n"
     ]
    }
   ],
   "source": [
    "vocab = []\n",
    "with open(bert_vocab_path) as f:\n",
    "    for i, line in enumerate(f):\n",
    "        vocab.append(line.rstrip('\\n'))    # rstrip to remove newline characters\n",
    "\n",
    "\n",
    "# Print a list with every 500th vocabulary item\n",
    "print(vocab[0::500])"
   ]
  },
  {
   "cell_type": "markdown",
   "metadata": {},
   "source": [
    "## Load BERT configuration\n",
    "\n",
    "The configuration is just a JSON file, so we can read it in with `json.load` from the python `json` library.\n",
    "\n",
    "We won't actually need to use these configuration details directly (keras-bert takes care of them for us), so this is just here to show what information is contained in the config file."
   ]
  },
  {
   "cell_type": "code",
   "execution_count": 11,
   "metadata": {},
   "outputs": [
    {
     "name": "stdout",
     "output_type": "stream",
     "text": [
      "{'attention_probs_dropout_prob': 0.1,\n",
      " 'hidden_act': 'gelu',\n",
      " 'hidden_dropout_prob': 0.1,\n",
      " 'hidden_size': 768,\n",
      " 'initializer_range': 0.02,\n",
      " 'intermediate_size': 3072,\n",
      " 'max_position_embeddings': 512,\n",
      " 'num_attention_heads': 12,\n",
      " 'num_hidden_layers': 12,\n",
      " 'type_vocab_size': 2,\n",
      " 'vocab_size': 28996}\n"
     ]
    }
   ],
   "source": [
    "import json\n",
    "\n",
    "from pprint import pprint    # pretty-printer for output\n",
    "\n",
    "\n",
    "with open(bert_config_path) as f:\n",
    "    config = json.load(f)\n",
    "\n",
    "\n",
    "# Print configuration contents\n",
    "pprint(config)"
   ]
  },
  {
   "cell_type": "markdown",
   "metadata": {},
   "source": [
    "## Create BERT tokenizer\n",
    "\n",
    "To create the tokenizer, we'll need a mapping from vocabulary items to their corresponding integer indices. We do this conventionally using `enumerate`."
   ]
  },
  {
   "cell_type": "code",
   "execution_count": 12,
   "metadata": {},
   "outputs": [
    {
     "name": "stdout",
     "output_type": "stream",
     "text": [
      "{'##umi': 14088,\n",
      " 'Helsinki': 12471,\n",
      " 'assassinated': 17493,\n",
      " 'brackets': 22019,\n",
      " 'drowned': 14100,\n",
      " 'educational': 4339,\n",
      " 'firmly': 7487,\n",
      " 'instincts': 17477,\n",
      " 'internet': 7210,\n",
      " 'nuts': 13937}\n"
     ]
    }
   ],
   "source": [
    "# Create mapping from vocabulary items to their indices in the vocabulary\n",
    "token_dict = { v: i for i, v in enumerate(vocab) }\n",
    "\n",
    "\n",
    "# Print some random examples of the mapping\n",
    "pprint(dict(random.choices(list(token_dict.items()), k=10)))"
   ]
  },
  {
   "cell_type": "markdown",
   "metadata": {},
   "source": [
    "We'll use the keras-bert `Tokenizer` for BERT tokenization. The implementation supports\n",
    "\n",
    "* (Optional) lowercasing: `Hello` → `hello`\n",
    "* Basic tokenization: `Hello!` → `Hello` `!`, `multi-part` → `multi` `-` `part`\n",
    "* Wordpiece tokenization: `comprehensively` → `comprehensive` `##ly`\n",
    "* Adding special tokens: `Sentence`  → `[CLS]` `Sentence` `[SEP]`\n",
    "* Mapping to integer indices\n",
    "* Generating segment sequence\n",
    "* (Optional) padding and truncation to length\n",
    "\n",
    "In the following example, notice how words not in the dictionary are broken up into subwords (with continuation parts starting with `##`) and how unknown _characters_ are mapped to a special unknown word token `[UNK]`."
   ]
  },
  {
   "cell_type": "code",
   "execution_count": 13,
   "metadata": {},
   "outputs": [
    {
     "name": "stdout",
     "output_type": "stream",
     "text": [
      "Original string: Hello BERT!\n",
      "Tokenized: ['[CLS]', 'Hello', 'B', '##ER', '##T', '!', '[SEP]']\n",
      "Encoded: [101, 8667, 139, 9637, 1942, 106, 102, 0, 0, 0, 0, 0, 0, 0, 0, 0, 0, 0, 0, 0]\n",
      "Segments: [0, 0, 0, 0, 0, 0, 0, 0, 0, 0, 0, 0, 0, 0, 0, 0, 0, 0, 0, 0]\n",
      "Decoded: Hello B ##ER ##T !\n",
      "\n",
      "Original string: Unknown: 你\n",
      "Tokenized: ['[CLS]', 'Unknown', ':', '你', '[SEP]']\n",
      "Encoded: [101, 16285, 131, 100, 102, 0, 0, 0, 0, 0, 0, 0, 0, 0, 0, 0, 0, 0, 0, 0]\n",
      "Segments: [0, 0, 0, 0, 0, 0, 0, 0, 0, 0, 0, 0, 0, 0, 0, 0, 0, 0, 0, 0]\n",
      "Decoded: Unknown : [UNK]\n",
      "\n"
     ]
    }
   ],
   "source": [
    "from keras_bert import Tokenizer\n",
    "\n",
    "\n",
    "tokenizer = Tokenizer(token_dict, cased=model_is_cased)\n",
    "\n",
    "\n",
    "# Let's test that out\n",
    "for s in ['Hello BERT!', 'Unknown: 你']:\n",
    "    print('Original string:', s)\n",
    "    print('Tokenized:', tokenizer.tokenize(s))\n",
    "    indices, segments = tokenizer.encode(s, max_len=20)    # max_len for padding and truncation\n",
    "    print('Encoded:', indices)\n",
    "    print('Segments:', segments)\n",
    "    print('Decoded:', ' '.join(tokenizer.decode(indices)))\n",
    "    print()"
   ]
  },
  {
   "cell_type": "markdown",
   "metadata": {},
   "source": [
    "## Vectorize data\n",
    "\n",
    "We'll use keras-bert `Tokenizer` to tokenize and vectorize words. For vectorizing labels (tags), we'll create a simple mapping ourselves.\n",
    "\n",
    "We'll also add a special placeholder label `NO_LABEL` for padding and continuation wordpieces (more on that below)."
   ]
  },
  {
   "cell_type": "code",
   "execution_count": 14,
   "metadata": {},
   "outputs": [
    {
     "name": "stdout",
     "output_type": "stream",
     "text": [
      "Number of unique labels: 18\n",
      "Tags: ['NONE', 'ADJ', 'ADP', 'ADV', 'AUX', 'CCONJ', 'DET', 'INTJ', 'NOUN', 'NUM', 'PART', 'PRON', 'PROPN', 'PUNCT', 'SCONJ', 'SYM', 'VERB', 'X']\n",
      "Mapping: {'NONE': 0, 'ADJ': 1, 'ADP': 2, 'ADV': 3, 'AUX': 4, 'CCONJ': 5, 'DET': 6, 'INTJ': 7, 'NOUN': 8, 'NUM': 9, 'PART': 10, 'PRON': 11, 'PROPN': 12, 'PUNCT': 13, 'SCONJ': 14, 'SYM': 15, 'VERB': 16, 'X': 17}\n",
      "Inverted: {0: 'NONE', 1: 'ADJ', 2: 'ADP', 3: 'ADV', 4: 'AUX', 5: 'CCONJ', 6: 'DET', 7: 'INTJ', 8: 'NOUN', 9: 'NUM', 10: 'PART', 11: 'PRON', 12: 'PROPN', 13: 'PUNCT', 14: 'SCONJ', 15: 'SYM', 16: 'VERB', 17: 'X'}\n"
     ]
    }
   ],
   "source": [
    "# This is our special placeholder label value\n",
    "NO_LABEL = 'NONE'\n",
    "\n",
    "\n",
    "# This just flattens out tags from the sentences list-of-lists\n",
    "train_tags = [tag for sentence in train_sentences for word, tag in sentence]\n",
    "# Use set() to get the unique tags and add our special label to the list\n",
    "unique_tags = [NO_LABEL] + sorted(set(train_tags))\n",
    "\n",
    "# Create mappings from tags to integer values and back\n",
    "tag_to_int = { t: i for i, t in enumerate(unique_tags) }\n",
    "int_to_tag = { i: t for t, i in tag_to_int.items() }\n",
    "\n",
    "# Take note of how many unique labels (tags) there are in the data\n",
    "num_labels = len(unique_tags)\n",
    "\n",
    "\n",
    "# Let's see what we got\n",
    "print('Number of unique labels:', num_labels)\n",
    "print('Tags:', unique_tags)\n",
    "print('Mapping:', tag_to_int)\n",
    "print('Inverted:', int_to_tag)"
   ]
  },
  {
   "cell_type": "markdown",
   "metadata": {},
   "source": [
    "The source data has one tag for each (syntactic) word. If we were training a model from scratch, we could define the tokenization to match the data so that we would get a simply one-to-one mapping between input words and output tags. However, as we're using a pre-trained model, we need to work with the existing tokenization, which may split up some of the input words into multiple parts.\n",
    "\n",
    "For example, if the data contains the word, tag pair `(complicatedly, ADV)` and the tokenizer splits up the word into `complicated` `##ly`, we have two tokens (`complicated` and `##ly`) but just one tag (`ADV`). There are a number of ways we could resolve this. Here, we will assign the original tag to the first wordpiece and the placeholder tag we introduced earlier to any subsequent pieces, so e.g. `(complicatedly, ADV)` would map to `(complicated, ADV)`, `(##ly, NONE)`."
   ]
  },
  {
   "cell_type": "code",
   "execution_count": 15,
   "metadata": {},
   "outputs": [
    {
     "name": "stdout",
     "output_type": "stream",
     "text": [
      "['They'] ['PRON']\n",
      "['had'] ['VERB']\n",
      "['a'] ['DET']\n",
      "['great'] ['ADJ']\n",
      "['selection'] ['NOUN']\n",
      "['of'] ['ADP']\n",
      "['colors'] ['NOUN']\n",
      "['to'] ['PART']\n",
      "['choose'] ['VERB']\n",
      "['from'] ['ADP']\n",
      "['and'] ['CCONJ']\n",
      "['their'] ['PRON']\n",
      "['seats'] ['NOUN']\n",
      "['are'] ['AUX']\n",
      "['super'] ['ADV']\n",
      "['com', '##fty'] ['ADJ', 'NONE']\n",
      "['.'] ['PUNCT']\n"
     ]
    }
   ],
   "source": [
    "import numpy as np\n",
    "\n",
    "\n",
    "def tokenize_word(word):\n",
    "    # keras-bert tokenizer wraps its inputs with the special BERT tokens\n",
    "    # [CLS] and [SEP]. To tokenize individual words, we remove these.\n",
    "    wrapped = tokenizer.tokenize(word)\n",
    "    return wrapped[1:-1]    # remove [CLS] at the first and [SEP] at the last position\n",
    "\n",
    "\n",
    "def tokenize_sentence(sentence):\n",
    "    tokenized = []\n",
    "    for word, tag in sentence:\n",
    "        tokens = tokenize_word(word)\n",
    "        # Original tag for first wordpiece, fill in placeholder tags for\n",
    "        # any continuation pieces.\n",
    "        tags = [tag] + [NO_LABEL] * (len(tokens)-1)\n",
    "        tokenized.append((tokens, tags))\n",
    "    return tokenized\n",
    "\n",
    "\n",
    "def tokenize_sentences(sentences):\n",
    "    return [tokenize_sentence(s) for s in sentences]\n",
    "\n",
    "\n",
    "tokenized_train = tokenize_sentences(train_sentences)\n",
    "tokenized_dev = tokenize_sentences(dev_sentences)\n",
    "\n",
    "\n",
    "# Let's look at an example sentence after tokenization\n",
    "for tokens, tags in tokenized_train[0]:\n",
    "    print(tokens, tags)"
   ]
  },
  {
   "cell_type": "markdown",
   "metadata": {},
   "source": [
    "To vectorize a tokenized sentence and its labels, we'll truncate to target length, add the special BERT tokens `[CLS]` and `[SEP]` (and corresponding placeholder labels), pad to length with the special `[PAD]` token if necessary, and map both tokens and tags to integer indices."
   ]
  },
  {
   "cell_type": "code",
   "execution_count": 16,
   "metadata": {},
   "outputs": [
    {
     "name": "stdout",
     "output_type": "stream",
     "text": [
      "train_X[0].shape: (2000, 25)\n",
      "train_X[1].shape: (2000, 25)\n",
      "train_Y[0].shape: (25, 18)\n",
      "train_X[0][0] (first sentence token IDs):\n",
      "[  101  1220  1125   170  1632  4557  1104  5769  1106  4835  1121  1105\n",
      "  1147  3474  1132  7688  3254 27944   119   102     0     0     0     0\n",
      "     0]\n",
      "train_X[1][0] (first sentence segment IDs):\n",
      "[0 0 0 0 0 0 0 0 0 0 0 0 0 0 0 0 0 0 0 0 0 0 0 0 0]\n",
      "train_Y[0][0] (first sentence tag IDs):\n",
      "[[1. 0. 0. 0. 0. 0. 0. 0. 0. 0. 0. 0. 0. 0. 0. 0. 0. 0.]\n",
      " [0. 0. 0. 0. 0. 0. 0. 0. 0. 0. 0. 1. 0. 0. 0. 0. 0. 0.]\n",
      " [0. 0. 0. 0. 0. 0. 0. 0. 0. 0. 0. 0. 0. 0. 0. 0. 1. 0.]\n",
      " [0. 0. 0. 0. 0. 0. 1. 0. 0. 0. 0. 0. 0. 0. 0. 0. 0. 0.]\n",
      " [0. 1. 0. 0. 0. 0. 0. 0. 0. 0. 0. 0. 0. 0. 0. 0. 0. 0.]\n",
      " [0. 0. 0. 0. 0. 0. 0. 0. 1. 0. 0. 0. 0. 0. 0. 0. 0. 0.]\n",
      " [0. 0. 1. 0. 0. 0. 0. 0. 0. 0. 0. 0. 0. 0. 0. 0. 0. 0.]\n",
      " [0. 0. 0. 0. 0. 0. 0. 0. 1. 0. 0. 0. 0. 0. 0. 0. 0. 0.]\n",
      " [0. 0. 0. 0. 0. 0. 0. 0. 0. 0. 1. 0. 0. 0. 0. 0. 0. 0.]\n",
      " [0. 0. 0. 0. 0. 0. 0. 0. 0. 0. 0. 0. 0. 0. 0. 0. 1. 0.]\n",
      " [0. 0. 1. 0. 0. 0. 0. 0. 0. 0. 0. 0. 0. 0. 0. 0. 0. 0.]\n",
      " [0. 0. 0. 0. 0. 1. 0. 0. 0. 0. 0. 0. 0. 0. 0. 0. 0. 0.]\n",
      " [0. 0. 0. 0. 0. 0. 0. 0. 0. 0. 0. 1. 0. 0. 0. 0. 0. 0.]\n",
      " [0. 0. 0. 0. 0. 0. 0. 0. 1. 0. 0. 0. 0. 0. 0. 0. 0. 0.]\n",
      " [0. 0. 0. 0. 1. 0. 0. 0. 0. 0. 0. 0. 0. 0. 0. 0. 0. 0.]\n",
      " [0. 0. 0. 1. 0. 0. 0. 0. 0. 0. 0. 0. 0. 0. 0. 0. 0. 0.]\n",
      " [0. 1. 0. 0. 0. 0. 0. 0. 0. 0. 0. 0. 0. 0. 0. 0. 0. 0.]\n",
      " [1. 0. 0. 0. 0. 0. 0. 0. 0. 0. 0. 0. 0. 0. 0. 0. 0. 0.]\n",
      " [0. 0. 0. 0. 0. 0. 0. 0. 0. 0. 0. 0. 0. 1. 0. 0. 0. 0.]\n",
      " [1. 0. 0. 0. 0. 0. 0. 0. 0. 0. 0. 0. 0. 0. 0. 0. 0. 0.]\n",
      " [1. 0. 0. 0. 0. 0. 0. 0. 0. 0. 0. 0. 0. 0. 0. 0. 0. 0.]\n",
      " [1. 0. 0. 0. 0. 0. 0. 0. 0. 0. 0. 0. 0. 0. 0. 0. 0. 0.]\n",
      " [1. 0. 0. 0. 0. 0. 0. 0. 0. 0. 0. 0. 0. 0. 0. 0. 0. 0.]\n",
      " [1. 0. 0. 0. 0. 0. 0. 0. 0. 0. 0. 0. 0. 0. 0. 0. 0. 0.]\n",
      " [1. 0. 0. 0. 0. 0. 0. 0. 0. 0. 0. 0. 0. 0. 0. 0. 0. 0.]]\n",
      "decoded train_X[0][0] (first sentence tokens):\n",
      "[CLS] They had a great selection of colors to choose from and their seats are super com ##fty . [SEP] [PAD] [PAD] [PAD] [PAD] [PAD]\n",
      "decoded train_Y[0] (first sentence tags):\n",
      "NONE PRON VERB DET ADJ NOUN ADP NOUN PART VERB ADP CCONJ PRON NOUN AUX ADV ADJ NONE PUNCT NONE NONE NONE NONE NONE NONE\n"
     ]
    }
   ],
   "source": [
    "from tensorflow.keras.utils import to_categorical\n",
    "\n",
    "\n",
    "def vectorize_tokenized(tokenized, length=INPUT_LENGTH):\n",
    "    # Flatten lists-of-lists of tokens and tags\n",
    "    token_sequence, tag_sequence = [], []\n",
    "    for tokens, tags in tokenized:\n",
    "        token_sequence.extend(tokens)\n",
    "        tag_sequence.extend(tags)\n",
    "\n",
    "    # Truncation and padding using length-2 to leave space for\n",
    "    # wrapping with the special [CLS] and [SEP] tokens\n",
    "    if len(token_sequence) > length-2:\n",
    "        token_sequence = token_sequence[:length-2]\n",
    "        tag_sequence = tag_sequence[:length-2]\n",
    "\n",
    "    # Wrap with [CLS] and [SEP], adding corresponding placeholder labels\n",
    "    token_sequence = ['[CLS]'] + token_sequence + ['[SEP]']\n",
    "    tag_sequence = [NO_LABEL] + tag_sequence + [NO_LABEL]\n",
    "\n",
    "    while len(token_sequence) < length:\n",
    "        token_sequence.append('[PAD]')\n",
    "        tag_sequence.append(NO_LABEL)\n",
    "    \n",
    "    # Use keras-bert tokenizer and previously created label mapping\n",
    "    token_ids = tokenizer._convert_tokens_to_ids(token_sequence)\n",
    "    tag_ids = [tag_to_int[tag] for tag in tag_sequence]\n",
    "    \n",
    "    # Also create all-zeros segment IDs for BERT\n",
    "    segment_ids = [0] * INPUT_LENGTH\n",
    "\n",
    "    return token_ids, segment_ids, tag_ids\n",
    "\n",
    "\n",
    "def vectorize_dataset(tokenized_data, length=INPUT_LENGTH):\n",
    "    # Create separate lists of token ID, segment ID, and tag ID lists,\n",
    "    # each of the inner lists representing one sentence.\n",
    "    token_ids_list, segment_ids_list, tag_ids_list = [], [], []\n",
    "    for tokenized in tokenized_data:\n",
    "        token_ids, segment_ids, tag_ids = vectorize_tokenized(tokenized, length=length)\n",
    "        token_ids_list.append(token_ids)\n",
    "        segment_ids_list.append(segment_ids)\n",
    "        tag_ids_list.append(tag_ids)\n",
    "\n",
    "    # Return as numpy arrays. Input (X) consists of the token and\n",
    "    # segment IDs, output (Y) of the tag ids. We'll use a one-hot\n",
    "    # representation for the output.\n",
    "    X = [np.array(token_ids_list), np.array(segment_ids_list)]\n",
    "    Y = to_categorical(np.array(tag_ids_list))\n",
    "\n",
    "    return X, Y\n",
    "    \n",
    "\n",
    "train_X, train_Y = vectorize_dataset(tokenized_train)\n",
    "dev_X, dev_Y = vectorize_dataset(tokenized_dev)\n",
    "\n",
    "\n",
    "# Let's have a bit of a look at that\n",
    "print('train_X[0].shape:', train_X[0].shape)\n",
    "print('train_X[1].shape:', train_X[1].shape)\n",
    "print('train_Y[0].shape:', train_Y[0].shape)\n",
    "print('train_X[0][0] (first sentence token IDs):')\n",
    "print(train_X[0][0])\n",
    "print('train_X[1][0] (first sentence segment IDs):')\n",
    "print(train_X[1][0])\n",
    "print('train_Y[0][0] (first sentence tag IDs):')\n",
    "print(train_Y[0])\n",
    "print('decoded train_X[0][0] (first sentence tokens):')\n",
    "print(' '.join([tokenizer._token_dict_inv[t] for t in train_X[0][0]]))\n",
    "print('decoded train_Y[0] (first sentence tags):')\n",
    "print(' '.join([int_to_tag[t.argmax()] for t in train_Y[0]]))"
   ]
  },
  {
   "cell_type": "markdown",
   "metadata": {},
   "source": [
    "## Load pretrained BERT model\n",
    "\n",
    "We'll use the keras-bert function `load_trained_model_from_checkpoint` to load the model from the checkpoint we downloaded earlier.\n",
    "\n",
    "Explanation for a few parameters from keras-bert documentation:\n",
    "\n",
    "* `training`: If `training`, the whole model will be returned. Otherwise, the MLM [masked language modeling] and NSP [next sentence prediction] parts will be ignored.\n",
    "* `trainable`: Whether the model is trainable. The default value is the same with `training`.\n",
    "\n",
    "We don't need the masked language modeling or next sentence prediction parts (these are primarily for pretraining), so we'll use `training=False` but `trainable=True`."
   ]
  },
  {
   "cell_type": "code",
   "execution_count": 17,
   "metadata": {},
   "outputs": [
    {
     "name": "stdout",
     "output_type": "stream",
     "text": [
      "WARNING:tensorflow:From /Users/smp/Library/Python/3.7/lib/python/site-packages/tensorflow_core/python/keras/initializers.py:119: calling RandomUniform.__init__ (from tensorflow.python.ops.init_ops) with dtype is deprecated and will be removed in a future version.\n",
      "Instructions for updating:\n",
      "Call initializer instance with the dtype argument instead of passing it to the constructor\n",
      "WARNING:tensorflow:From /Users/smp/Library/Python/3.7/lib/python/site-packages/tensorflow_core/python/ops/resource_variable_ops.py:1630: calling BaseResourceVariable.__init__ (from tensorflow.python.ops.resource_variable_ops) with constraint is deprecated and will be removed in a future version.\n",
      "Instructions for updating:\n",
      "If using Keras pass *_constraint arguments to layers.\n"
     ]
    }
   ],
   "source": [
    "from keras_bert import load_trained_model_from_checkpoint\n",
    "\n",
    "\n",
    "pretrained_model = load_trained_model_from_checkpoint(\n",
    "    config_file = bert_config_path,\n",
    "    checkpoint_file = bert_checkpoint_path,\n",
    "    training = False,\n",
    "    trainable = True,\n",
    "    seq_len = INPUT_LENGTH\n",
    ")"
   ]
  },
  {
   "cell_type": "markdown",
   "metadata": {},
   "source": [
    "Let's have a bit of a look at that model"
   ]
  },
  {
   "cell_type": "code",
   "execution_count": 18,
   "metadata": {},
   "outputs": [
    {
     "data": {
      "text/plain": [
       "[<tf.Tensor 'Input-Token:0' shape=(?, 25) dtype=float32>,\n",
       " <tf.Tensor 'Input-Segment:0' shape=(?, 25) dtype=float32>]"
      ]
     },
     "execution_count": 18,
     "metadata": {},
     "output_type": "execute_result"
    }
   ],
   "source": [
    "# This is a keras model, so we can figure out what inputs it takes like so:\n",
    "pretrained_model.inputs"
   ]
  },
  {
   "cell_type": "code",
   "execution_count": 19,
   "metadata": {},
   "outputs": [
    {
     "data": {
      "text/plain": [
       "[<tf.Tensor 'Encoder-12-FeedForward-Norm/add_1:0' shape=(?, 25, 768) dtype=float32>]"
      ]
     },
     "execution_count": 19,
     "metadata": {},
     "output_type": "execute_result"
    }
   ],
   "source": [
    "# And similarly for outputs:\n",
    "pretrained_model.outputs"
   ]
  },
  {
   "cell_type": "markdown",
   "metadata": {},
   "source": [
    "So, the model takes `Input-Token` and `Input-Segment` inputs, both of dimension (batch-size, input-length), and produces a single output tensor of dimension (batch-size, input-length, hidden-dim). This is just what we want for sequence labeling."
   ]
  },
  {
   "cell_type": "code",
   "execution_count": 20,
   "metadata": {},
   "outputs": [
    {
     "name": "stdout",
     "output_type": "stream",
     "text": [
      "Model: \"model_1\"\n",
      "__________________________________________________________________________________________________\n",
      "Layer (type)                    Output Shape         Param #     Connected to                     \n",
      "==================================================================================================\n",
      "Input-Token (InputLayer)        [(None, 25)]         0                                            \n",
      "__________________________________________________________________________________________________\n",
      "Input-Segment (InputLayer)      [(None, 25)]         0                                            \n",
      "__________________________________________________________________________________________________\n",
      "Embedding-Token (TokenEmbedding [(None, 25, 768), (2 22268928    Input-Token[0][0]                \n",
      "__________________________________________________________________________________________________\n",
      "Embedding-Segment (Embedding)   (None, 25, 768)      1536        Input-Segment[0][0]              \n",
      "__________________________________________________________________________________________________\n",
      "Embedding-Token-Segment (Add)   (None, 25, 768)      0           Embedding-Token[0][0]            \n",
      "                                                                 Embedding-Segment[0][0]          \n",
      "__________________________________________________________________________________________________\n",
      "Embedding-Position (PositionEmb (None, 25, 768)      19200       Embedding-Token-Segment[0][0]    \n",
      "__________________________________________________________________________________________________\n",
      "Embedding-Dropout (Dropout)     (None, 25, 768)      0           Embedding-Position[0][0]         \n",
      "__________________________________________________________________________________________________\n",
      "Embedding-Norm (LayerNormalizat (None, 25, 768)      1536        Embedding-Dropout[0][0]          \n",
      "__________________________________________________________________________________________________\n",
      "Encoder-1-MultiHeadSelfAttentio (None, 25, 768)      2362368     Embedding-Norm[0][0]             \n",
      "__________________________________________________________________________________________________\n",
      "Encoder-1-MultiHeadSelfAttentio (None, 25, 768)      0           Encoder-1-MultiHeadSelfAttention[\n",
      "__________________________________________________________________________________________________\n",
      "Encoder-1-MultiHeadSelfAttentio (None, 25, 768)      0           Embedding-Norm[0][0]             \n",
      "                                                                 Encoder-1-MultiHeadSelfAttention-\n",
      "__________________________________________________________________________________________________\n",
      "Encoder-1-MultiHeadSelfAttentio (None, 25, 768)      1536        Encoder-1-MultiHeadSelfAttention-\n",
      "__________________________________________________________________________________________________\n",
      "Encoder-1-FeedForward (FeedForw (None, 25, 768)      4722432     Encoder-1-MultiHeadSelfAttention-\n",
      "__________________________________________________________________________________________________\n",
      "Encoder-1-FeedForward-Dropout ( (None, 25, 768)      0           Encoder-1-FeedForward[0][0]      \n",
      "__________________________________________________________________________________________________\n",
      "Encoder-1-FeedForward-Add (Add) (None, 25, 768)      0           Encoder-1-MultiHeadSelfAttention-\n",
      "                                                                 Encoder-1-FeedForward-Dropout[0][\n",
      "__________________________________________________________________________________________________\n",
      "Encoder-1-FeedForward-Norm (Lay (None, 25, 768)      1536        Encoder-1-FeedForward-Add[0][0]  \n",
      "__________________________________________________________________________________________________\n",
      "Encoder-2-MultiHeadSelfAttentio (None, 25, 768)      2362368     Encoder-1-FeedForward-Norm[0][0] \n",
      "__________________________________________________________________________________________________\n",
      "Encoder-2-MultiHeadSelfAttentio (None, 25, 768)      0           Encoder-2-MultiHeadSelfAttention[\n",
      "__________________________________________________________________________________________________\n",
      "Encoder-2-MultiHeadSelfAttentio (None, 25, 768)      0           Encoder-1-FeedForward-Norm[0][0] \n",
      "                                                                 Encoder-2-MultiHeadSelfAttention-\n",
      "__________________________________________________________________________________________________\n",
      "Encoder-2-MultiHeadSelfAttentio (None, 25, 768)      1536        Encoder-2-MultiHeadSelfAttention-\n",
      "__________________________________________________________________________________________________\n",
      "Encoder-2-FeedForward (FeedForw (None, 25, 768)      4722432     Encoder-2-MultiHeadSelfAttention-\n",
      "__________________________________________________________________________________________________\n",
      "Encoder-2-FeedForward-Dropout ( (None, 25, 768)      0           Encoder-2-FeedForward[0][0]      \n",
      "__________________________________________________________________________________________________\n",
      "Encoder-2-FeedForward-Add (Add) (None, 25, 768)      0           Encoder-2-MultiHeadSelfAttention-\n",
      "                                                                 Encoder-2-FeedForward-Dropout[0][\n",
      "__________________________________________________________________________________________________\n",
      "Encoder-2-FeedForward-Norm (Lay (None, 25, 768)      1536        Encoder-2-FeedForward-Add[0][0]  \n",
      "__________________________________________________________________________________________________\n",
      "Encoder-3-MultiHeadSelfAttentio (None, 25, 768)      2362368     Encoder-2-FeedForward-Norm[0][0] \n",
      "__________________________________________________________________________________________________\n",
      "Encoder-3-MultiHeadSelfAttentio (None, 25, 768)      0           Encoder-3-MultiHeadSelfAttention[\n",
      "__________________________________________________________________________________________________\n",
      "Encoder-3-MultiHeadSelfAttentio (None, 25, 768)      0           Encoder-2-FeedForward-Norm[0][0] \n",
      "                                                                 Encoder-3-MultiHeadSelfAttention-\n",
      "__________________________________________________________________________________________________\n",
      "Encoder-3-MultiHeadSelfAttentio (None, 25, 768)      1536        Encoder-3-MultiHeadSelfAttention-\n",
      "__________________________________________________________________________________________________\n",
      "Encoder-3-FeedForward (FeedForw (None, 25, 768)      4722432     Encoder-3-MultiHeadSelfAttention-\n",
      "__________________________________________________________________________________________________\n",
      "Encoder-3-FeedForward-Dropout ( (None, 25, 768)      0           Encoder-3-FeedForward[0][0]      \n",
      "__________________________________________________________________________________________________\n",
      "Encoder-3-FeedForward-Add (Add) (None, 25, 768)      0           Encoder-3-MultiHeadSelfAttention-\n",
      "                                                                 Encoder-3-FeedForward-Dropout[0][\n",
      "__________________________________________________________________________________________________\n",
      "Encoder-3-FeedForward-Norm (Lay (None, 25, 768)      1536        Encoder-3-FeedForward-Add[0][0]  \n",
      "__________________________________________________________________________________________________\n",
      "Encoder-4-MultiHeadSelfAttentio (None, 25, 768)      2362368     Encoder-3-FeedForward-Norm[0][0] \n",
      "__________________________________________________________________________________________________\n",
      "Encoder-4-MultiHeadSelfAttentio (None, 25, 768)      0           Encoder-4-MultiHeadSelfAttention[\n",
      "__________________________________________________________________________________________________\n",
      "Encoder-4-MultiHeadSelfAttentio (None, 25, 768)      0           Encoder-3-FeedForward-Norm[0][0] \n",
      "                                                                 Encoder-4-MultiHeadSelfAttention-\n",
      "__________________________________________________________________________________________________\n",
      "Encoder-4-MultiHeadSelfAttentio (None, 25, 768)      1536        Encoder-4-MultiHeadSelfAttention-\n",
      "__________________________________________________________________________________________________\n",
      "Encoder-4-FeedForward (FeedForw (None, 25, 768)      4722432     Encoder-4-MultiHeadSelfAttention-\n",
      "__________________________________________________________________________________________________\n",
      "Encoder-4-FeedForward-Dropout ( (None, 25, 768)      0           Encoder-4-FeedForward[0][0]      \n",
      "__________________________________________________________________________________________________\n",
      "Encoder-4-FeedForward-Add (Add) (None, 25, 768)      0           Encoder-4-MultiHeadSelfAttention-\n",
      "                                                                 Encoder-4-FeedForward-Dropout[0][\n",
      "__________________________________________________________________________________________________\n",
      "Encoder-4-FeedForward-Norm (Lay (None, 25, 768)      1536        Encoder-4-FeedForward-Add[0][0]  \n",
      "__________________________________________________________________________________________________\n",
      "Encoder-5-MultiHeadSelfAttentio (None, 25, 768)      2362368     Encoder-4-FeedForward-Norm[0][0] \n",
      "__________________________________________________________________________________________________\n",
      "Encoder-5-MultiHeadSelfAttentio (None, 25, 768)      0           Encoder-5-MultiHeadSelfAttention[\n",
      "__________________________________________________________________________________________________\n",
      "Encoder-5-MultiHeadSelfAttentio (None, 25, 768)      0           Encoder-4-FeedForward-Norm[0][0] \n",
      "                                                                 Encoder-5-MultiHeadSelfAttention-\n",
      "__________________________________________________________________________________________________\n",
      "Encoder-5-MultiHeadSelfAttentio (None, 25, 768)      1536        Encoder-5-MultiHeadSelfAttention-\n",
      "__________________________________________________________________________________________________\n",
      "Encoder-5-FeedForward (FeedForw (None, 25, 768)      4722432     Encoder-5-MultiHeadSelfAttention-\n",
      "__________________________________________________________________________________________________\n",
      "Encoder-5-FeedForward-Dropout ( (None, 25, 768)      0           Encoder-5-FeedForward[0][0]      \n",
      "__________________________________________________________________________________________________\n",
      "Encoder-5-FeedForward-Add (Add) (None, 25, 768)      0           Encoder-5-MultiHeadSelfAttention-\n",
      "                                                                 Encoder-5-FeedForward-Dropout[0][\n",
      "__________________________________________________________________________________________________\n",
      "Encoder-5-FeedForward-Norm (Lay (None, 25, 768)      1536        Encoder-5-FeedForward-Add[0][0]  \n",
      "__________________________________________________________________________________________________\n",
      "Encoder-6-MultiHeadSelfAttentio (None, 25, 768)      2362368     Encoder-5-FeedForward-Norm[0][0] \n",
      "__________________________________________________________________________________________________\n",
      "Encoder-6-MultiHeadSelfAttentio (None, 25, 768)      0           Encoder-6-MultiHeadSelfAttention[\n",
      "__________________________________________________________________________________________________\n",
      "Encoder-6-MultiHeadSelfAttentio (None, 25, 768)      0           Encoder-5-FeedForward-Norm[0][0] \n",
      "                                                                 Encoder-6-MultiHeadSelfAttention-\n",
      "__________________________________________________________________________________________________\n",
      "Encoder-6-MultiHeadSelfAttentio (None, 25, 768)      1536        Encoder-6-MultiHeadSelfAttention-\n",
      "__________________________________________________________________________________________________\n",
      "Encoder-6-FeedForward (FeedForw (None, 25, 768)      4722432     Encoder-6-MultiHeadSelfAttention-\n",
      "__________________________________________________________________________________________________\n",
      "Encoder-6-FeedForward-Dropout ( (None, 25, 768)      0           Encoder-6-FeedForward[0][0]      \n",
      "__________________________________________________________________________________________________\n",
      "Encoder-6-FeedForward-Add (Add) (None, 25, 768)      0           Encoder-6-MultiHeadSelfAttention-\n",
      "                                                                 Encoder-6-FeedForward-Dropout[0][\n",
      "__________________________________________________________________________________________________\n",
      "Encoder-6-FeedForward-Norm (Lay (None, 25, 768)      1536        Encoder-6-FeedForward-Add[0][0]  \n",
      "__________________________________________________________________________________________________\n",
      "Encoder-7-MultiHeadSelfAttentio (None, 25, 768)      2362368     Encoder-6-FeedForward-Norm[0][0] \n",
      "__________________________________________________________________________________________________\n",
      "Encoder-7-MultiHeadSelfAttentio (None, 25, 768)      0           Encoder-7-MultiHeadSelfAttention[\n",
      "__________________________________________________________________________________________________\n",
      "Encoder-7-MultiHeadSelfAttentio (None, 25, 768)      0           Encoder-6-FeedForward-Norm[0][0] \n",
      "                                                                 Encoder-7-MultiHeadSelfAttention-\n",
      "__________________________________________________________________________________________________\n",
      "Encoder-7-MultiHeadSelfAttentio (None, 25, 768)      1536        Encoder-7-MultiHeadSelfAttention-\n",
      "__________________________________________________________________________________________________\n",
      "Encoder-7-FeedForward (FeedForw (None, 25, 768)      4722432     Encoder-7-MultiHeadSelfAttention-\n",
      "__________________________________________________________________________________________________\n",
      "Encoder-7-FeedForward-Dropout ( (None, 25, 768)      0           Encoder-7-FeedForward[0][0]      \n",
      "__________________________________________________________________________________________________\n",
      "Encoder-7-FeedForward-Add (Add) (None, 25, 768)      0           Encoder-7-MultiHeadSelfAttention-\n",
      "                                                                 Encoder-7-FeedForward-Dropout[0][\n",
      "__________________________________________________________________________________________________\n",
      "Encoder-7-FeedForward-Norm (Lay (None, 25, 768)      1536        Encoder-7-FeedForward-Add[0][0]  \n",
      "__________________________________________________________________________________________________\n",
      "Encoder-8-MultiHeadSelfAttentio (None, 25, 768)      2362368     Encoder-7-FeedForward-Norm[0][0] \n",
      "__________________________________________________________________________________________________\n",
      "Encoder-8-MultiHeadSelfAttentio (None, 25, 768)      0           Encoder-8-MultiHeadSelfAttention[\n",
      "__________________________________________________________________________________________________\n",
      "Encoder-8-MultiHeadSelfAttentio (None, 25, 768)      0           Encoder-7-FeedForward-Norm[0][0] \n",
      "                                                                 Encoder-8-MultiHeadSelfAttention-\n",
      "__________________________________________________________________________________________________\n",
      "Encoder-8-MultiHeadSelfAttentio (None, 25, 768)      1536        Encoder-8-MultiHeadSelfAttention-\n",
      "__________________________________________________________________________________________________\n",
      "Encoder-8-FeedForward (FeedForw (None, 25, 768)      4722432     Encoder-8-MultiHeadSelfAttention-\n",
      "__________________________________________________________________________________________________\n",
      "Encoder-8-FeedForward-Dropout ( (None, 25, 768)      0           Encoder-8-FeedForward[0][0]      \n",
      "__________________________________________________________________________________________________\n",
      "Encoder-8-FeedForward-Add (Add) (None, 25, 768)      0           Encoder-8-MultiHeadSelfAttention-\n",
      "                                                                 Encoder-8-FeedForward-Dropout[0][\n",
      "__________________________________________________________________________________________________\n",
      "Encoder-8-FeedForward-Norm (Lay (None, 25, 768)      1536        Encoder-8-FeedForward-Add[0][0]  \n",
      "__________________________________________________________________________________________________\n",
      "Encoder-9-MultiHeadSelfAttentio (None, 25, 768)      2362368     Encoder-8-FeedForward-Norm[0][0] \n",
      "__________________________________________________________________________________________________\n",
      "Encoder-9-MultiHeadSelfAttentio (None, 25, 768)      0           Encoder-9-MultiHeadSelfAttention[\n",
      "__________________________________________________________________________________________________\n",
      "Encoder-9-MultiHeadSelfAttentio (None, 25, 768)      0           Encoder-8-FeedForward-Norm[0][0] \n",
      "                                                                 Encoder-9-MultiHeadSelfAttention-\n",
      "__________________________________________________________________________________________________\n",
      "Encoder-9-MultiHeadSelfAttentio (None, 25, 768)      1536        Encoder-9-MultiHeadSelfAttention-\n",
      "__________________________________________________________________________________________________\n",
      "Encoder-9-FeedForward (FeedForw (None, 25, 768)      4722432     Encoder-9-MultiHeadSelfAttention-\n",
      "__________________________________________________________________________________________________\n",
      "Encoder-9-FeedForward-Dropout ( (None, 25, 768)      0           Encoder-9-FeedForward[0][0]      \n",
      "__________________________________________________________________________________________________\n",
      "Encoder-9-FeedForward-Add (Add) (None, 25, 768)      0           Encoder-9-MultiHeadSelfAttention-\n",
      "                                                                 Encoder-9-FeedForward-Dropout[0][\n",
      "__________________________________________________________________________________________________\n",
      "Encoder-9-FeedForward-Norm (Lay (None, 25, 768)      1536        Encoder-9-FeedForward-Add[0][0]  \n",
      "__________________________________________________________________________________________________\n",
      "Encoder-10-MultiHeadSelfAttenti (None, 25, 768)      2362368     Encoder-9-FeedForward-Norm[0][0] \n",
      "__________________________________________________________________________________________________\n",
      "Encoder-10-MultiHeadSelfAttenti (None, 25, 768)      0           Encoder-10-MultiHeadSelfAttention\n",
      "__________________________________________________________________________________________________\n",
      "Encoder-10-MultiHeadSelfAttenti (None, 25, 768)      0           Encoder-9-FeedForward-Norm[0][0] \n",
      "                                                                 Encoder-10-MultiHeadSelfAttention\n",
      "__________________________________________________________________________________________________\n",
      "Encoder-10-MultiHeadSelfAttenti (None, 25, 768)      1536        Encoder-10-MultiHeadSelfAttention\n",
      "__________________________________________________________________________________________________\n",
      "Encoder-10-FeedForward (FeedFor (None, 25, 768)      4722432     Encoder-10-MultiHeadSelfAttention\n",
      "__________________________________________________________________________________________________\n",
      "Encoder-10-FeedForward-Dropout  (None, 25, 768)      0           Encoder-10-FeedForward[0][0]     \n",
      "__________________________________________________________________________________________________\n",
      "Encoder-10-FeedForward-Add (Add (None, 25, 768)      0           Encoder-10-MultiHeadSelfAttention\n",
      "                                                                 Encoder-10-FeedForward-Dropout[0]\n",
      "__________________________________________________________________________________________________\n",
      "Encoder-10-FeedForward-Norm (La (None, 25, 768)      1536        Encoder-10-FeedForward-Add[0][0] \n",
      "__________________________________________________________________________________________________\n",
      "Encoder-11-MultiHeadSelfAttenti (None, 25, 768)      2362368     Encoder-10-FeedForward-Norm[0][0]\n",
      "__________________________________________________________________________________________________\n",
      "Encoder-11-MultiHeadSelfAttenti (None, 25, 768)      0           Encoder-11-MultiHeadSelfAttention\n",
      "__________________________________________________________________________________________________\n",
      "Encoder-11-MultiHeadSelfAttenti (None, 25, 768)      0           Encoder-10-FeedForward-Norm[0][0]\n",
      "                                                                 Encoder-11-MultiHeadSelfAttention\n",
      "__________________________________________________________________________________________________\n",
      "Encoder-11-MultiHeadSelfAttenti (None, 25, 768)      1536        Encoder-11-MultiHeadSelfAttention\n",
      "__________________________________________________________________________________________________\n",
      "Encoder-11-FeedForward (FeedFor (None, 25, 768)      4722432     Encoder-11-MultiHeadSelfAttention\n",
      "__________________________________________________________________________________________________\n",
      "Encoder-11-FeedForward-Dropout  (None, 25, 768)      0           Encoder-11-FeedForward[0][0]     \n",
      "__________________________________________________________________________________________________\n",
      "Encoder-11-FeedForward-Add (Add (None, 25, 768)      0           Encoder-11-MultiHeadSelfAttention\n",
      "                                                                 Encoder-11-FeedForward-Dropout[0]\n",
      "__________________________________________________________________________________________________\n",
      "Encoder-11-FeedForward-Norm (La (None, 25, 768)      1536        Encoder-11-FeedForward-Add[0][0] \n",
      "__________________________________________________________________________________________________\n",
      "Encoder-12-MultiHeadSelfAttenti (None, 25, 768)      2362368     Encoder-11-FeedForward-Norm[0][0]\n",
      "__________________________________________________________________________________________________\n",
      "Encoder-12-MultiHeadSelfAttenti (None, 25, 768)      0           Encoder-12-MultiHeadSelfAttention\n",
      "__________________________________________________________________________________________________\n",
      "Encoder-12-MultiHeadSelfAttenti (None, 25, 768)      0           Encoder-11-FeedForward-Norm[0][0]\n",
      "                                                                 Encoder-12-MultiHeadSelfAttention\n",
      "__________________________________________________________________________________________________\n",
      "Encoder-12-MultiHeadSelfAttenti (None, 25, 768)      1536        Encoder-12-MultiHeadSelfAttention\n",
      "__________________________________________________________________________________________________\n",
      "Encoder-12-FeedForward (FeedFor (None, 25, 768)      4722432     Encoder-12-MultiHeadSelfAttention\n",
      "__________________________________________________________________________________________________\n",
      "Encoder-12-FeedForward-Dropout  (None, 25, 768)      0           Encoder-12-FeedForward[0][0]     \n",
      "__________________________________________________________________________________________________\n",
      "Encoder-12-FeedForward-Add (Add (None, 25, 768)      0           Encoder-12-MultiHeadSelfAttention\n",
      "                                                                 Encoder-12-FeedForward-Dropout[0]\n",
      "__________________________________________________________________________________________________\n",
      "Encoder-12-FeedForward-Norm (La (None, 25, 768)      1536        Encoder-12-FeedForward-Add[0][0] \n",
      "==================================================================================================\n",
      "Total params: 107,345,664\n",
      "Trainable params: 107,345,664\n",
      "Non-trainable params: 0\n",
      "__________________________________________________________________________________________________\n"
     ]
    }
   ],
   "source": [
    "pretrained_model.summary()"
   ]
  },
  {
   "cell_type": "markdown",
   "metadata": {},
   "source": [
    "This is a regular Keras model. In Keras, models behave very much like layers, so we're able to wrap this in our own model."
   ]
  },
  {
   "cell_type": "markdown",
   "metadata": {},
   "source": [
    "## Build sequence labeling model\n",
    "\n",
    "We'll make a _very_ simple model for sequence labeling: just attach a time-distributed dense layer with softmax activation to the output, and connect the model inputs to the BERT model inputs."
   ]
  },
  {
   "cell_type": "code",
   "execution_count": 21,
   "metadata": {},
   "outputs": [
    {
     "name": "stdout",
     "output_type": "stream",
     "text": [
      "Tensor(\"Encoder-12-FeedForward-Norm/add_1:0\", shape=(?, 25, 768), dtype=float32)\n"
     ]
    }
   ],
   "source": [
    "# model.outputs is a list, here with a single item. We'll\n",
    "# add our output layer on top of that.\n",
    "bert_out = pretrained_model.outputs[0]\n",
    "\n",
    "print(bert_out)"
   ]
  },
  {
   "cell_type": "markdown",
   "metadata": {},
   "source": [
    "The model is standard Keras, where the pretrained BERT model is behaving essentially as a layer of our \"wrapping\" model."
   ]
  },
  {
   "cell_type": "code",
   "execution_count": 22,
   "metadata": {},
   "outputs": [],
   "source": [
    "from tensorflow.keras.models import Model\n",
    "from tensorflow.keras.layers import TimeDistributed, Dense\n",
    "\n",
    "\n",
    "out = TimeDistributed(Dense(num_labels, activation='softmax'))(bert_out)\n",
    "model = Model(\n",
    "    inputs=pretrained_model.inputs,\n",
    "    outputs=[out]\n",
    ")"
   ]
  },
  {
   "cell_type": "markdown",
   "metadata": {},
   "source": [
    "## Create optimizer\n",
    "\n",
    "BERT is pretrained with an Adam optimizer with warmup and regularization using weight decay. We won't go into detail on these optimizer settings, but will instead largely copy parameters used in the original BERT work.\n",
    "\n",
    "(If you're interested in tuning the training process, trying different values of `LEARNING_RATE` is a good place to start!)"
   ]
  },
  {
   "cell_type": "code",
   "execution_count": 23,
   "metadata": {},
   "outputs": [],
   "source": [
    "from keras_bert import calc_train_steps, AdamWarmup\n",
    "\n",
    "\n",
    "# Calculate the number of steps for warmup\n",
    "total_steps, warmup_steps = calc_train_steps(\n",
    "    num_example=len(train_sentences),\n",
    "    batch_size=BATCH_SIZE,\n",
    "    epochs=EPOCHS,\n",
    "    warmup_proportion=0.1,\n",
    ")\n",
    "\n",
    "optimizer = AdamWarmup(\n",
    "    total_steps,\n",
    "    warmup_steps,\n",
    "    lr=LEARNING_RATE,\n",
    "    epsilon=1e-6,\n",
    "    weight_decay=0.01,\n",
    "    weight_decay_pattern=['embeddings', 'kernel', 'W1', 'W2', 'Wk', 'Wq', 'Wv', 'Wo']\n",
    ")"
   ]
  },
  {
   "cell_type": "markdown",
   "metadata": {},
   "source": [
    "## Evaluation metric\n",
    "\n",
    "We'll define a modification of the `categorical_accuracy` metric that ignores the `NO_LABEL` values in the gold data, thus only focusing on predictions for the \"real\" labels.\n",
    "\n",
    "The implementation is a modification of https://github.com/tensorflow/tensorflow/blob/v2.1.0/tensorflow/python/keras/metrics.py#L2967 ."
   ]
  },
  {
   "cell_type": "code",
   "execution_count": 24,
   "metadata": {},
   "outputs": [],
   "source": [
    "from tensorflow.python.ops import math_ops as o\n",
    "from tensorflow.python.keras import backend as K\n",
    "\n",
    "\n",
    "def label_categorical_accuracy(y_true, y_pred):\n",
    "    # Map one-hot targets and predictions to tag indices \n",
    "    y_true_idx = o.argmax(y_true, axis=-1)\n",
    "    y_pred_idx = o.argmax(y_pred, axis=-1)\n",
    "    # Compare targets to predicted elementwise and cast the\n",
    "    # resulting boolean values to floating point values.\n",
    "    # (K.floatx() returns current default float type.)\n",
    "    correct_preds = o.cast(o.equal(y_true_idx, y_pred_idx), K.floatx())\n",
    "    # Compare targets to the special NO_LABEL value and cast\n",
    "    # the resulting boolean values to floating point values.\n",
    "    # This gives a value of zero for NO_LABEL and one for others.\n",
    "    is_label = o.cast(o.not_equal(y_true_idx, tag_to_int[NO_LABEL]), K.floatx())\n",
    "    # Take elementwise product of the comparisons, giving values that\n",
    "    # are one if the prediction is equal to the target and the target\n",
    "    # is not the NO_LABEL value, and zero otherwise.\n",
    "    correct_label_preds = o.multiply(correct_preds, is_label)\n",
    "    # Accuracy is then the number of correct predictions for labels\n",
    "    # divided by the number of labels.\n",
    "    return o.reduce_sum(correct_label_preds)/o.reduce_sum(is_label)"
   ]
  },
  {
   "cell_type": "markdown",
   "metadata": {},
   "source": [
    "## Train model\n",
    "\n",
    "The model is compiled and trained normally. As our targets are one-hot, we'll use `categorical_crossentropy` loss."
   ]
  },
  {
   "cell_type": "code",
   "execution_count": 25,
   "metadata": {},
   "outputs": [],
   "source": [
    "model.compile(\n",
    "    optimizer=optimizer,\n",
    "    loss='categorical_crossentropy',\n",
    "    metrics=[label_categorical_accuracy]\n",
    ")"
   ]
  },
  {
   "cell_type": "markdown",
   "metadata": {},
   "source": [
    "Training, as usual. (Note: this will take a fair bit of time unless you're running with GPU acceleration.)"
   ]
  },
  {
   "cell_type": "code",
   "execution_count": 26,
   "metadata": {},
   "outputs": [
    {
     "name": "stdout",
     "output_type": "stream",
     "text": [
      "WARNING:tensorflow:From /Users/smp/Library/Python/3.7/lib/python/site-packages/tensorflow_core/python/ops/math_grad.py:1424: where (from tensorflow.python.ops.array_ops) is deprecated and will be removed in a future version.\n",
      "Instructions for updating:\n",
      "Use tf.where in 2.0, which has the same broadcast rule as np.where\n",
      "Train on 2000 samples, validate on 2000 samples\n",
      "Epoch 1/3\n",
      "2000/2000 [==============================] - 957s 478ms/sample - loss: 0.6913 - label_categorical_accuracy: 0.6605 - val_loss: 0.1031 - val_label_categorical_accuracy: 0.9337\n",
      "Epoch 2/3\n",
      "2000/2000 [==============================] - 932s 466ms/sample - loss: 0.0853 - label_categorical_accuracy: 0.9538 - val_loss: 0.0818 - val_label_categorical_accuracy: 0.9437\n",
      "Epoch 3/3\n",
      "2000/2000 [==============================] - 979s 490ms/sample - loss: 0.0496 - label_categorical_accuracy: 0.9738 - val_loss: 0.0785 - val_label_categorical_accuracy: 0.9482\n"
     ]
    }
   ],
   "source": [
    "history = model.fit(\n",
    "    train_X,\n",
    "    train_Y,\n",
    "    epochs=EPOCHS,\n",
    "    batch_size=BATCH_SIZE,\n",
    "    validation_data=(dev_X, dev_Y)\n",
    ")"
   ]
  },
  {
   "cell_type": "markdown",
   "metadata": {},
   "source": [
    "Let's plot that training history:"
   ]
  },
  {
   "cell_type": "code",
   "execution_count": 28,
   "metadata": {},
   "outputs": [
    {
     "data": {
      "image/png": "[encoded data removed]",
      "text/plain": [
       "<Figure size 432x288 with 1 Axes>"
      ]
     },
     "metadata": {
      "needs_background": "light"
     },
     "output_type": "display_data"
    }
   ],
   "source": [
    "%matplotlib inline\n",
    "import matplotlib.pyplot as plt\n",
    "\n",
    "\n",
    "def plot_history(history):\n",
    "    train_metric = 'label_categorical_accuracy'\n",
    "    val_metric = 'val_label_categorical_accuracy'\n",
    "    plt.plot(history.history[val_metric],label=\"Validation set accuracy\")\n",
    "    plt.plot(history.history[train_metric],label=\"Training set accuracy\")\n",
    "    plt.legend()\n",
    "    plt.show()\n",
    "\n",
    "\n",
    "plot_history(history)"
   ]
  },
  {
   "cell_type": "markdown",
   "metadata": {},
   "source": [
    "That's not a bad result."
   ]
  },
  {
   "cell_type": "markdown",
   "metadata": {},
   "source": [
    "## Predict with the trained model\n",
    "\n",
    "Let's run a few simple cases through the trained model to illustrate its use."
   ]
  },
  {
   "cell_type": "code",
   "execution_count": 29,
   "metadata": {},
   "outputs": [
    {
     "name": "stdout",
     "output_type": "stream",
     "text": [
      "This\tDET\n",
      "model\tNOUN\n",
      "can\tAUX\n",
      "predict\tVERB\n",
      "parts\tNOUN\n",
      "of\tADP\n",
      "speech\tNOUN\n",
      ".\tPUNCT\n",
      "\n",
      "What\tPRON\n",
      "would\tAUX\n",
      "the\tDET\n",
      "best\tADJ\n",
      "time\tNOUN\n",
      "be\tAUX\n",
      "tomorrow,\tNOUN\n",
      "John\tPROPN\n",
      "wondered\tVERB\n",
      "quietly\tADV\n",
      ".\tPUNCT\n",
      "\n"
     ]
    }
   ],
   "source": [
    "def predict_tags(words):\n",
    "    # This function takes a sequence of words, vectorizes it,\n",
    "    # and returns the model predictions. The vectorization code\n",
    "    # we wrote expects labels, so we'll attach dummy labels to\n",
    "    # use the code and then discard the dummy labels it generates.\n",
    "    dummy_tagged = [(word, NO_LABEL) for word in words]\n",
    "    tokenized_test = tokenize_sentences([dummy_tagged])\n",
    "    test_X, dummy_Y = vectorize_dataset(tokenized_test)\n",
    "    # Run model.predict for this single sequence \n",
    "    predictions = model.predict(test_X)\n",
    "    # Our outputs are one-hot, take argmax to get indices\n",
    "    y = predictions[0].argmax(axis=1)\n",
    "    # For words tokenized into several subword parts, we\n",
    "    # only care about the predicted tag for the first part.\n",
    "    # Use the tokenization to identify these parts.\n",
    "    tags = []\n",
    "    i = 1    # Start at 1 to skip the special [CLS] token.\n",
    "    for tokens, _ in tokenized_test[0]:\n",
    "        tags.append(int_to_tag[y[i]])\n",
    "        i += len(tokens)\n",
    "    return tags\n",
    "\n",
    "\n",
    "# Test the model with a few word sequences\n",
    "test_words = [\n",
    "  'This model can predict parts of speech .'.split(),\n",
    "  'What would the best time be tomorrow, John wondered quietly .'.split()\n",
    "]\n",
    "\n",
    "\n",
    "for words in test_words:\n",
    "    tags = predict_tags(words)\n",
    "    for w, t in zip(words, tags):\n",
    "        print('{}\\t{}'.format(w, t))\n",
    "    print()"
   ]
  }
 ],
 "metadata": {
  "kernelspec": {
   "display_name": "Python 3",
   "language": "python",
   "name": "python3"
  },
  "language_info": {
   "codemirror_mode": {
    "name": "ipython",
    "version": 3
   },
   "file_extension": ".py",
   "mimetype": "text/x-python",
   "name": "python",
   "nbconvert_exporter": "python",
   "pygments_lexer": "ipython3",
   "version": "3.7.6"
  }
 },
 "nbformat": 4,
 "nbformat_minor": 4
}
