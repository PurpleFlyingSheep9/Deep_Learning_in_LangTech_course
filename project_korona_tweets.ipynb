{
 "cells": [
  {
   "cell_type": "markdown",
   "metadata": {},
   "source": [
    "### Korona-tweet project\n",
    "As an effort to contribute to the ongoing coronavirus pandemic, an ad-hoc project choice is proposed here. We have gather Finnish tweets, and we would like to gather crowd effort to annotate them. The idea is simple: the tweets are annotated for whether they indicate somebody at a location might have COVID, and then we apply machine learning/deep learning on the data.\n",
    "\n",
    "As the first step, 1000 tweets have been prepared.\n",
    "The raw data is available [here](https://github.com/TurkuNLP/korona-tweets/blob/master/annotation/batch-01.tsv) (for your reference only).\n",
    "\n",
    "_To help us with annotations, [click here](https://bit.ly/2wUZzS9)_. This Google sheet allows you to modify the Annotation column, but not the others (ID and Text). As instructed in the Google sheet, the task is to annotate whether the tweet indicates that _the author or somebody near their location has COVID-19 or symptoms associated with COVID-19?_ If the answer is \"yes\", the tweet is annotated with a 1; if the answer is \"no\", it is annotated as 0. Note that all flu-like symptoms makes the tweet a 1, not just critical symptoms."
   ]
  },
  {
   "cell_type": "markdown",
   "metadata": {},
   "source": [
    "### Data\n",
    "Every student opting for this project will be assigned a number of tweets to annotate. The number of tweets depends on the total number of students choosing this project, so please sign up for this project by 9.4 latest."
   ]
  },
  {
   "cell_type": "markdown",
   "metadata": {},
   "source": [
    "### Milestones\n",
    "<h4>1.1 Bag-of-words classifier</h4><br>\n",
    "Train a bag-of-words classifier to predict whether the tweets indicate potential coronavirus infection. The setting is binary classification, since there are only two classes (either 0 or 1). Evaluate your model and report your results with different hyperparameters.<br>\n",
    "<h4>1.2 Expand context</h4><br>\n",
    "Modify your codes from milestone 1.2 to use convolution neural networks or recurrent neural networks (e.g. CNN, LSTM, biLSTM, or GRU) in the classifier. Evaluate your model and report your results with different hyperparameters.<br>\n",
    "<h4>2.1 Use deep contextual representations</h4><br>\n",
    "Use deep contextual representations. Fine-tune the embeddings with different hyperparameters. Try different models (e.g. cased and uncased, multilingual BERT). Report your results.<br>\n",
    "<h4>2.2 Error analysis</h4><br>\n",
    "Select one model from each of the previous milestones (three models in total). Look at their predictions. Analyze the errors made. Are there any patterns? How do the errors one model makes differ from those made by another?\n",
    "<h4>3 Open ended milestone</h4><br>\n",
    "Do some useful NLP stuff (e.g NER) on the tweets.<br>\n",
    "<br>\n",
    "Note: In your analysis, you have the freedom to do whatever type of analysis you would like to do. Analysis that incorporate the COVID current situation and knowledge are highly encouraged."
   ]
  }
 ],
 "metadata": {
  "kernelspec": {
   "display_name": "Python 3",
   "language": "python",
   "name": "python3"
  },
  "language_info": {
   "codemirror_mode": {
    "name": "ipython",
    "version": 3
   },
   "file_extension": ".py",
   "mimetype": "text/x-python",
   "name": "python",
   "nbconvert_exporter": "python",
   "pygments_lexer": "ipython3",
   "version": "3.5.2"
  }
 },
 "nbformat": 4,
 "nbformat_minor": 2
}
